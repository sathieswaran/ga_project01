{
 "cells": [
  {
   "cell_type": "code",
   "execution_count": 157,
   "metadata": {
    "collapsed": true
   },
   "outputs": [],
   "source": [
    "import numpy as np\n",
    "import scipy.stats as stats\n",
    "import seaborn as sns\n",
    "import matplotlib.pyplot as plt\n",
    "import pandas as pd\n",
    "import math\n",
    "import csv"
   ]
  },
  {
   "cell_type": "markdown",
   "metadata": {},
   "source": [
    "### Uploading of betting data"
   ]
  },
  {
   "cell_type": "code",
   "execution_count": 158,
   "metadata": {
    "collapsed": true
   },
   "outputs": [],
   "source": [
    "bet1617 = \"./Betting data 16:17.csv\"\n",
    "bet1617 = pd.read_csv(bet1617)"
   ]
  },
  {
   "cell_type": "code",
   "execution_count": 159,
   "metadata": {},
   "outputs": [
    {
     "data": {
      "text/html": [
       "<div>\n",
       "<style scoped>\n",
       "    .dataframe tbody tr th:only-of-type {\n",
       "        vertical-align: middle;\n",
       "    }\n",
       "\n",
       "    .dataframe tbody tr th {\n",
       "        vertical-align: top;\n",
       "    }\n",
       "\n",
       "    .dataframe thead th {\n",
       "        text-align: right;\n",
       "    }\n",
       "</style>\n",
       "<table border=\"1\" class=\"dataframe\">\n",
       "  <thead>\n",
       "    <tr style=\"text-align: right;\">\n",
       "      <th></th>\n",
       "      <th>Date</th>\n",
       "      <th>HomeTeam</th>\n",
       "      <th>AwayTeam</th>\n",
       "      <th>FTR</th>\n",
       "      <th>B365H</th>\n",
       "      <th>B365D</th>\n",
       "      <th>B365A</th>\n",
       "      <th>BWH</th>\n",
       "      <th>BWD</th>\n",
       "      <th>BWA</th>\n",
       "      <th>...</th>\n",
       "      <th>BbAv&lt;2.5</th>\n",
       "      <th>BbAH</th>\n",
       "      <th>BbAHh</th>\n",
       "      <th>BbMxAHH</th>\n",
       "      <th>BbAvAHH</th>\n",
       "      <th>BbMxAHA</th>\n",
       "      <th>BbAvAHA</th>\n",
       "      <th>PSCH</th>\n",
       "      <th>PSCD</th>\n",
       "      <th>PSCA</th>\n",
       "    </tr>\n",
       "  </thead>\n",
       "  <tbody>\n",
       "    <tr>\n",
       "      <th>0</th>\n",
       "      <td>13/8/16</td>\n",
       "      <td>Burnley</td>\n",
       "      <td>Swansea</td>\n",
       "      <td>A</td>\n",
       "      <td>2.40</td>\n",
       "      <td>3.3</td>\n",
       "      <td>3.25</td>\n",
       "      <td>2.45</td>\n",
       "      <td>3.1</td>\n",
       "      <td>2.95</td>\n",
       "      <td>...</td>\n",
       "      <td>1.61</td>\n",
       "      <td>32</td>\n",
       "      <td>-0.25</td>\n",
       "      <td>2.13</td>\n",
       "      <td>2.06</td>\n",
       "      <td>1.86</td>\n",
       "      <td>1.81</td>\n",
       "      <td>2.79</td>\n",
       "      <td>3.16</td>\n",
       "      <td>2.89</td>\n",
       "    </tr>\n",
       "    <tr>\n",
       "      <th>1</th>\n",
       "      <td>13/8/16</td>\n",
       "      <td>Crystal Palace</td>\n",
       "      <td>West Brom</td>\n",
       "      <td>A</td>\n",
       "      <td>2.00</td>\n",
       "      <td>3.3</td>\n",
       "      <td>4.50</td>\n",
       "      <td>2.00</td>\n",
       "      <td>3.2</td>\n",
       "      <td>3.90</td>\n",
       "      <td>...</td>\n",
       "      <td>1.52</td>\n",
       "      <td>33</td>\n",
       "      <td>-0.50</td>\n",
       "      <td>2.07</td>\n",
       "      <td>2.00</td>\n",
       "      <td>1.90</td>\n",
       "      <td>1.85</td>\n",
       "      <td>2.25</td>\n",
       "      <td>3.15</td>\n",
       "      <td>3.86</td>\n",
       "    </tr>\n",
       "    <tr>\n",
       "      <th>2</th>\n",
       "      <td>13/8/16</td>\n",
       "      <td>Everton</td>\n",
       "      <td>Tottenham</td>\n",
       "      <td>D</td>\n",
       "      <td>3.20</td>\n",
       "      <td>3.4</td>\n",
       "      <td>2.40</td>\n",
       "      <td>2.95</td>\n",
       "      <td>3.2</td>\n",
       "      <td>2.40</td>\n",
       "      <td>...</td>\n",
       "      <td>1.77</td>\n",
       "      <td>32</td>\n",
       "      <td>0.25</td>\n",
       "      <td>1.91</td>\n",
       "      <td>1.85</td>\n",
       "      <td>2.09</td>\n",
       "      <td>2.00</td>\n",
       "      <td>3.64</td>\n",
       "      <td>3.54</td>\n",
       "      <td>2.16</td>\n",
       "    </tr>\n",
       "    <tr>\n",
       "      <th>3</th>\n",
       "      <td>13/8/16</td>\n",
       "      <td>Hull</td>\n",
       "      <td>Leicester</td>\n",
       "      <td>H</td>\n",
       "      <td>4.50</td>\n",
       "      <td>3.6</td>\n",
       "      <td>1.91</td>\n",
       "      <td>4.33</td>\n",
       "      <td>3.4</td>\n",
       "      <td>1.90</td>\n",
       "      <td>...</td>\n",
       "      <td>1.67</td>\n",
       "      <td>31</td>\n",
       "      <td>0.25</td>\n",
       "      <td>2.35</td>\n",
       "      <td>2.26</td>\n",
       "      <td>2.03</td>\n",
       "      <td>1.67</td>\n",
       "      <td>4.68</td>\n",
       "      <td>3.50</td>\n",
       "      <td>1.92</td>\n",
       "    </tr>\n",
       "    <tr>\n",
       "      <th>4</th>\n",
       "      <td>13/8/16</td>\n",
       "      <td>Man City</td>\n",
       "      <td>Sunderland</td>\n",
       "      <td>H</td>\n",
       "      <td>1.25</td>\n",
       "      <td>6.5</td>\n",
       "      <td>15.00</td>\n",
       "      <td>1.22</td>\n",
       "      <td>6.0</td>\n",
       "      <td>11.50</td>\n",
       "      <td>...</td>\n",
       "      <td>2.48</td>\n",
       "      <td>34</td>\n",
       "      <td>-1.50</td>\n",
       "      <td>1.81</td>\n",
       "      <td>1.73</td>\n",
       "      <td>2.20</td>\n",
       "      <td>2.14</td>\n",
       "      <td>1.25</td>\n",
       "      <td>6.50</td>\n",
       "      <td>14.50</td>\n",
       "    </tr>\n",
       "  </tbody>\n",
       "</table>\n",
       "<p>5 rows × 46 columns</p>\n",
       "</div>"
      ],
      "text/plain": [
       "      Date        HomeTeam    AwayTeam FTR  B365H  B365D  B365A   BWH  BWD  \\\n",
       "0  13/8/16         Burnley     Swansea   A   2.40    3.3   3.25  2.45  3.1   \n",
       "1  13/8/16  Crystal Palace   West Brom   A   2.00    3.3   4.50  2.00  3.2   \n",
       "2  13/8/16         Everton   Tottenham   D   3.20    3.4   2.40  2.95  3.2   \n",
       "3  13/8/16            Hull   Leicester   H   4.50    3.6   1.91  4.33  3.4   \n",
       "4  13/8/16        Man City  Sunderland   H   1.25    6.5  15.00  1.22  6.0   \n",
       "\n",
       "     BWA  ...    BbAv<2.5  BbAH  BbAHh  BbMxAHH  BbAvAHH  BbMxAHA  BbAvAHA  \\\n",
       "0   2.95  ...        1.61    32  -0.25     2.13     2.06     1.86     1.81   \n",
       "1   3.90  ...        1.52    33  -0.50     2.07     2.00     1.90     1.85   \n",
       "2   2.40  ...        1.77    32   0.25     1.91     1.85     2.09     2.00   \n",
       "3   1.90  ...        1.67    31   0.25     2.35     2.26     2.03     1.67   \n",
       "4  11.50  ...        2.48    34  -1.50     1.81     1.73     2.20     2.14   \n",
       "\n",
       "   PSCH  PSCD   PSCA  \n",
       "0  2.79  3.16   2.89  \n",
       "1  2.25  3.15   3.86  \n",
       "2  3.64  3.54   2.16  \n",
       "3  4.68  3.50   1.92  \n",
       "4  1.25  6.50  14.50  \n",
       "\n",
       "[5 rows x 46 columns]"
      ]
     },
     "execution_count": 159,
     "metadata": {},
     "output_type": "execute_result"
    }
   ],
   "source": [
    "bet1617.head()"
   ]
  },
  {
   "cell_type": "code",
   "execution_count": 160,
   "metadata": {},
   "outputs": [
    {
     "data": {
      "text/plain": [
       "Index([u'Date', u'HomeTeam', u'AwayTeam', u'FTR', u'B365H', u'B365D', u'B365A',\n",
       "       u'BWH', u'BWD', u'BWA', u'IWH', u'IWD', u'IWA', u'LBH', u'LBD', u'LBA',\n",
       "       u'PSH', u'PSD', u'PSA', u'WHH', u'WHD', u'WHA', u'VCH', u'VCD', u'VCA',\n",
       "       u'Bb1X2', u'BbMxH', u'BbAvH', u'BbMxD', u'BbAvD', u'BbMxA', u'BbAvA',\n",
       "       u'BbOU', u'BbMx>2.5', u'BbAv>2.5', u'BbMx<2.5', u'BbAv<2.5', u'BbAH',\n",
       "       u'BbAHh', u'BbMxAHH', u'BbAvAHH', u'BbMxAHA', u'BbAvAHA', u'PSCH',\n",
       "       u'PSCD', u'PSCA'],\n",
       "      dtype='object')"
      ]
     },
     "execution_count": 160,
     "metadata": {},
     "output_type": "execute_result"
    }
   ],
   "source": [
    "bet1617.columns"
   ]
  },
  {
   "cell_type": "markdown",
   "metadata": {},
   "source": [
    "### creatingg a new dataframe for date, home team, away team and full time result"
   ]
  },
  {
   "cell_type": "code",
   "execution_count": 161,
   "metadata": {
    "collapsed": true
   },
   "outputs": [],
   "source": [
    "bet1617const = bet1617[['Date', 'HomeTeam', 'AwayTeam', 'FTR']].copy()"
   ]
  },
  {
   "cell_type": "markdown",
   "metadata": {},
   "source": [
    "### sorting of dataframe column headers for those with letter H to look for home team odds\n",
    "### And then find for  Full time result to be a home win"
   ]
  },
  {
   "cell_type": "code",
   "execution_count": 162,
   "metadata": {
    "collapsed": true
   },
   "outputs": [],
   "source": [
    "bet1617Home = bet1617.filter(regex='H')\n",
    "bet1617Home = bet1617Home.drop(['HomeTeam', 'WHD','WHA','BbAvAHA'], axis=1)\n",
    "bet1617Home2 = pd.concat([bet1617const,bet1617Home], axis=1, join_axes=[bet1617const.index])\n",
    "homwwin = bet1617Home2[bet1617Home2[\"FTR\"] == \"H\"]"
   ]
  },
  {
   "cell_type": "markdown",
   "metadata": {},
   "source": [
    "### Plotting the number of times each betting company has the highest odds for Home wins"
   ]
  },
  {
   "cell_type": "code",
   "execution_count": 210,
   "metadata": {},
   "outputs": [
    {
     "name": "stderr",
     "output_type": "stream",
     "text": [
      "/anaconda3/envs/py27/lib/python2.7/site-packages/ipykernel_launcher.py:2: SettingWithCopyWarning: \n",
      "A value is trying to be set on a copy of a slice from a DataFrame.\n",
      "Try using .loc[row_indexer,col_indexer] = value instead\n",
      "\n",
      "See the caveats in the documentation: http://pandas.pydata.org/pandas-docs/stable/indexing.html#indexing-view-versus-copy\n",
      "  \n",
      "/anaconda3/envs/py27/lib/python2.7/site-packages/ipykernel_launcher.py:4: SettingWithCopyWarning: \n",
      "A value is trying to be set on a copy of a slice from a DataFrame.\n",
      "Try using .loc[row_indexer,col_indexer] = value instead\n",
      "\n",
      "See the caveats in the documentation: http://pandas.pydata.org/pandas-docs/stable/indexing.html#indexing-view-versus-copy\n",
      "  after removing the cwd from sys.path.\n"
     ]
    },
    {
     "data": {
      "text/plain": [
       "Text(0.5,1,u'No. of times with highest odds (HOME wins)')"
      ]
     },
     "execution_count": 210,
     "metadata": {},
     "output_type": "execute_result"
    },
    {
     "data": {
      "image/png": "[encoded data removed]",
      "text/plain": [
       "<matplotlib.figure.Figure at 0x1a1e46c390>"
      ]
     },
     "metadata": {},
     "output_type": "display_data"
    }
   ],
   "source": [
    "homax = homwwin.loc[:, 'B365H':'VCH']\n",
    "homwwin[\"Mean Accurate Odds (HOME)\"] = homax.idxmax(axis=1)\n",
    "fig, ax = plt.subplots()\n",
    "homwwin[\"Homwinmax\"] = homax.apply( max, axis=1 )\n",
    "homwwin[\"Mean Accurate Odds (HOME)\"].value_counts().plot(ax=ax, kind='bar')\n",
    "plt.title('No. of times with highest odds (HOME wins)', fontsize=15)"
   ]
  },
  {
   "cell_type": "code",
   "execution_count": 185,
   "metadata": {},
   "outputs": [
    {
     "data": {
      "text/html": [
       "<div>\n",
       "<style scoped>\n",
       "    .dataframe tbody tr th:only-of-type {\n",
       "        vertical-align: middle;\n",
       "    }\n",
       "\n",
       "    .dataframe tbody tr th {\n",
       "        vertical-align: top;\n",
       "    }\n",
       "\n",
       "    .dataframe thead th {\n",
       "        text-align: right;\n",
       "    }\n",
       "</style>\n",
       "<table border=\"1\" class=\"dataframe\">\n",
       "  <thead>\n",
       "    <tr style=\"text-align: right;\">\n",
       "      <th></th>\n",
       "      <th>Date</th>\n",
       "      <th>HomeTeam</th>\n",
       "      <th>AwayTeam</th>\n",
       "      <th>FTR</th>\n",
       "      <th>B365H</th>\n",
       "      <th>BWH</th>\n",
       "      <th>IWH</th>\n",
       "      <th>LBH</th>\n",
       "      <th>PSH</th>\n",
       "      <th>WHH</th>\n",
       "      <th>...</th>\n",
       "      <th>BbAvH</th>\n",
       "      <th>BbAH</th>\n",
       "      <th>BbAHh</th>\n",
       "      <th>BbMxAHH</th>\n",
       "      <th>BbAvAHH</th>\n",
       "      <th>BbMxAHA</th>\n",
       "      <th>PSCH</th>\n",
       "      <th>Homwinbest</th>\n",
       "      <th>Homwinmax</th>\n",
       "      <th>Mean Accurate Odds (HOME)</th>\n",
       "    </tr>\n",
       "  </thead>\n",
       "  <tbody>\n",
       "    <tr>\n",
       "      <th>3</th>\n",
       "      <td>13/8/16</td>\n",
       "      <td>Hull</td>\n",
       "      <td>Leicester</td>\n",
       "      <td>H</td>\n",
       "      <td>4.50</td>\n",
       "      <td>4.33</td>\n",
       "      <td>3.30</td>\n",
       "      <td>4.50</td>\n",
       "      <td>4.43</td>\n",
       "      <td>4.20</td>\n",
       "      <td>...</td>\n",
       "      <td>4.17</td>\n",
       "      <td>31</td>\n",
       "      <td>0.25</td>\n",
       "      <td>2.35</td>\n",
       "      <td>2.26</td>\n",
       "      <td>2.03</td>\n",
       "      <td>4.68</td>\n",
       "      <td>B365H</td>\n",
       "      <td>4.50</td>\n",
       "      <td>B365H</td>\n",
       "    </tr>\n",
       "    <tr>\n",
       "      <th>4</th>\n",
       "      <td>13/8/16</td>\n",
       "      <td>Man City</td>\n",
       "      <td>Sunderland</td>\n",
       "      <td>H</td>\n",
       "      <td>1.25</td>\n",
       "      <td>1.22</td>\n",
       "      <td>1.25</td>\n",
       "      <td>1.25</td>\n",
       "      <td>1.27</td>\n",
       "      <td>1.25</td>\n",
       "      <td>...</td>\n",
       "      <td>1.25</td>\n",
       "      <td>34</td>\n",
       "      <td>-1.50</td>\n",
       "      <td>1.81</td>\n",
       "      <td>1.73</td>\n",
       "      <td>2.20</td>\n",
       "      <td>1.25</td>\n",
       "      <td>PSH</td>\n",
       "      <td>1.27</td>\n",
       "      <td>PSH</td>\n",
       "    </tr>\n",
       "    <tr>\n",
       "      <th>9</th>\n",
       "      <td>15/8/16</td>\n",
       "      <td>Chelsea</td>\n",
       "      <td>West Ham</td>\n",
       "      <td>H</td>\n",
       "      <td>1.65</td>\n",
       "      <td>1.60</td>\n",
       "      <td>1.65</td>\n",
       "      <td>1.62</td>\n",
       "      <td>1.68</td>\n",
       "      <td>1.67</td>\n",
       "      <td>...</td>\n",
       "      <td>1.64</td>\n",
       "      <td>33</td>\n",
       "      <td>-1.00</td>\n",
       "      <td>2.20</td>\n",
       "      <td>2.10</td>\n",
       "      <td>1.80</td>\n",
       "      <td>1.52</td>\n",
       "      <td>PSH</td>\n",
       "      <td>1.68</td>\n",
       "      <td>PSH</td>\n",
       "    </tr>\n",
       "    <tr>\n",
       "      <th>10</th>\n",
       "      <td>19/8/16</td>\n",
       "      <td>Man United</td>\n",
       "      <td>Southampton</td>\n",
       "      <td>H</td>\n",
       "      <td>1.53</td>\n",
       "      <td>1.48</td>\n",
       "      <td>1.40</td>\n",
       "      <td>1.53</td>\n",
       "      <td>1.54</td>\n",
       "      <td>1.44</td>\n",
       "      <td>...</td>\n",
       "      <td>1.52</td>\n",
       "      <td>37</td>\n",
       "      <td>-1.00</td>\n",
       "      <td>2.01</td>\n",
       "      <td>1.92</td>\n",
       "      <td>2.19</td>\n",
       "      <td>1.53</td>\n",
       "      <td>VCH</td>\n",
       "      <td>1.55</td>\n",
       "      <td>VCH</td>\n",
       "    </tr>\n",
       "    <tr>\n",
       "      <th>11</th>\n",
       "      <td>20/8/16</td>\n",
       "      <td>Burnley</td>\n",
       "      <td>Liverpool</td>\n",
       "      <td>H</td>\n",
       "      <td>6.50</td>\n",
       "      <td>6.50</td>\n",
       "      <td>5.60</td>\n",
       "      <td>6.50</td>\n",
       "      <td>7.12</td>\n",
       "      <td>7.00</td>\n",
       "      <td>...</td>\n",
       "      <td>6.43</td>\n",
       "      <td>36</td>\n",
       "      <td>1.00</td>\n",
       "      <td>1.98</td>\n",
       "      <td>1.91</td>\n",
       "      <td>2.00</td>\n",
       "      <td>7.26</td>\n",
       "      <td>PSH</td>\n",
       "      <td>7.12</td>\n",
       "      <td>PSH</td>\n",
       "    </tr>\n",
       "  </tbody>\n",
       "</table>\n",
       "<p>5 rows × 22 columns</p>\n",
       "</div>"
      ],
      "text/plain": [
       "       Date    HomeTeam     AwayTeam FTR  B365H   BWH   IWH   LBH   PSH   WHH  \\\n",
       "3   13/8/16        Hull    Leicester   H   4.50  4.33  3.30  4.50  4.43  4.20   \n",
       "4   13/8/16    Man City   Sunderland   H   1.25  1.22  1.25  1.25  1.27  1.25   \n",
       "9   15/8/16     Chelsea     West Ham   H   1.65  1.60  1.65  1.62  1.68  1.67   \n",
       "10  19/8/16  Man United  Southampton   H   1.53  1.48  1.40  1.53  1.54  1.44   \n",
       "11  20/8/16     Burnley    Liverpool   H   6.50  6.50  5.60  6.50  7.12  7.00   \n",
       "\n",
       "              ...             BbAvH  BbAH  BbAHh  BbMxAHH  BbAvAHH  BbMxAHA  \\\n",
       "3             ...              4.17    31   0.25     2.35     2.26     2.03   \n",
       "4             ...              1.25    34  -1.50     1.81     1.73     2.20   \n",
       "9             ...              1.64    33  -1.00     2.20     2.10     1.80   \n",
       "10            ...              1.52    37  -1.00     2.01     1.92     2.19   \n",
       "11            ...              6.43    36   1.00     1.98     1.91     2.00   \n",
       "\n",
       "    PSCH  Homwinbest  Homwinmax Mean Accurate Odds (HOME)  \n",
       "3   4.68       B365H       4.50                     B365H  \n",
       "4   1.25         PSH       1.27                       PSH  \n",
       "9   1.52         PSH       1.68                       PSH  \n",
       "10  1.53         VCH       1.55                       VCH  \n",
       "11  7.26         PSH       7.12                       PSH  \n",
       "\n",
       "[5 rows x 22 columns]"
      ]
     },
     "execution_count": 185,
     "metadata": {},
     "output_type": "execute_result"
    }
   ],
   "source": [
    "homwwin.head()"
   ]
  },
  {
   "cell_type": "code",
   "execution_count": 165,
   "metadata": {},
   "outputs": [
    {
     "data": {
      "text/plain": [
       "IWH      56\n",
       "PSH      54\n",
       "B365H    41\n",
       "WHH      20\n",
       "VCH       9\n",
       "LBH       5\n",
       "BWH       2\n",
       "Name: Homwinbest, dtype: int64"
      ]
     },
     "execution_count": 165,
     "metadata": {},
     "output_type": "execute_result"
    }
   ],
   "source": [
    "homwwin[\"Homwinbest\"].value_counts()"
   ]
  },
  {
   "cell_type": "markdown",
   "metadata": {},
   "source": [
    "###  Plotting of the mean accurate odds for home wins by each betting company"
   ]
  },
  {
   "cell_type": "code",
   "execution_count": 208,
   "metadata": {},
   "outputs": [
    {
     "data": {
      "text/plain": [
       "Text(0.5,1,u'Mean of highest odds (HOME wins)')"
      ]
     },
     "execution_count": 208,
     "metadata": {},
     "output_type": "execute_result"
    },
    {
     "data": {
      "image/png": "[encoded data removed]",
      "text/plain": [
       "<matplotlib.figure.Figure at 0x1a1e41ca10>"
      ]
     },
     "metadata": {},
     "output_type": "display_data"
    }
   ],
   "source": [
    "homewinbb = homwwin.groupby(\"Mean Accurate Odds (HOME)\").Homwinmax.mean()\n",
    "fig, ax = plt.subplots()\n",
    "homewinbb.plot(ax=ax, kind='barh')\n",
    "plt.title('Mean of highest odds (HOME wins)', fontsize=20)"
   ]
  },
  {
   "cell_type": "markdown",
   "metadata": {},
   "source": [
    "homewinbb"
   ]
  },
  {
   "cell_type": "markdown",
   "metadata": {},
   "source": [
    "### Dorting of dataframe column headers for those with letter 'A' to look for Away team odds.\n",
    "### Finding for a Full time result to be a Away win."
   ]
  },
  {
   "cell_type": "code",
   "execution_count": 192,
   "metadata": {
    "collapsed": true
   },
   "outputs": [],
   "source": [
    "bet1617Away = bet1617.filter(regex='A')\n",
    "bet1617Away = bet1617[['B365A', 'BWA', 'IWA', 'LBA', 'PSA','WHA',\"VCA\"]].copy()\n",
    "bet1617Away2 = pd.concat([bet1617const,bet1617Away], axis=1, join_axes=[bet1617const.index])\n",
    "Awaywin = bet1617Away2[bet1617Away2[\"FTR\"] == \"A\"]"
   ]
  },
  {
   "cell_type": "markdown",
   "metadata": {},
   "source": [
    "### Plotting the number of times each betting company has the highest odds for Away wins"
   ]
  },
  {
   "cell_type": "code",
   "execution_count": 209,
   "metadata": {},
   "outputs": [
    {
     "name": "stderr",
     "output_type": "stream",
     "text": [
      "/anaconda3/envs/py27/lib/python2.7/site-packages/ipykernel_launcher.py:2: SettingWithCopyWarning: \n",
      "A value is trying to be set on a copy of a slice from a DataFrame.\n",
      "Try using .loc[row_indexer,col_indexer] = value instead\n",
      "\n",
      "See the caveats in the documentation: http://pandas.pydata.org/pandas-docs/stable/indexing.html#indexing-view-versus-copy\n",
      "  \n",
      "/anaconda3/envs/py27/lib/python2.7/site-packages/ipykernel_launcher.py:5: SettingWithCopyWarning: \n",
      "A value is trying to be set on a copy of a slice from a DataFrame.\n",
      "Try using .loc[row_indexer,col_indexer] = value instead\n",
      "\n",
      "See the caveats in the documentation: http://pandas.pydata.org/pandas-docs/stable/indexing.html#indexing-view-versus-copy\n",
      "  \"\"\"\n"
     ]
    },
    {
     "data": {
      "text/plain": [
       "Text(0.5,1,u'No. of times with highest odds (AWAY wins)')"
      ]
     },
     "execution_count": 209,
     "metadata": {},
     "output_type": "execute_result"
    },
    {
     "data": {
      "image/png": "[encoded data removed]",
      "text/plain": [
       "<matplotlib.figure.Figure at 0x1a1e4fe050>"
      ]
     },
     "metadata": {},
     "output_type": "display_data"
    }
   ],
   "source": [
    "Awmax = Awaywin.loc[:, 'B365A':'VCA']\n",
    "Awaywin[\"Mean Accurate Odds (AWAY)\"] = Awmax.idxmax(axis=1)\n",
    "fig, ax = plt.subplots()\n",
    "Awaywin[\"Mean Accurate Odds (AWAY)\"].value_counts().plot(ax=ax, kind='bar')\n",
    "Awaywin[\"Awaywinmax\"] = Awmax.apply( max, axis=1 )\n",
    "plt.title('No. of times with highest odds (AWAY wins)', fontsize=20)"
   ]
  },
  {
   "cell_type": "markdown",
   "metadata": {},
   "source": [
    "###  Plotting of the mean accurate odds for Away wins by each betting company"
   ]
  },
  {
   "cell_type": "code",
   "execution_count": 211,
   "metadata": {},
   "outputs": [
    {
     "data": {
      "text/plain": [
       "Text(0.5,1,u'Mean of highest odds (AWAY wins)')"
      ]
     },
     "execution_count": 211,
     "metadata": {},
     "output_type": "execute_result"
    },
    {
     "data": {
      "image/png": "[encoded data removed]",
      "text/plain": [
       "<matplotlib.figure.Figure at 0x1a1e483e50>"
      ]
     },
     "metadata": {},
     "output_type": "display_data"
    }
   ],
   "source": [
    "Awaywinbb = Awaywin.groupby(\"Mean Accurate Odds (AWAY)\").Awaywinmax.mean()\n",
    "fig, ax = plt.subplots()\n",
    "Awaywinbb.plot(ax=ax, kind='barh')\n",
    "plt.title('Mean of highest odds (AWAY wins)', fontsize=20)"
   ]
  },
  {
   "cell_type": "markdown",
   "metadata": {},
   "source": [
    "### Dorting of dataframe column headers for those with letter 'D' to look for Away team odds.\n",
    "### Finding for a Full time result to be a Away win."
   ]
  },
  {
   "cell_type": "code",
   "execution_count": 170,
   "metadata": {
    "collapsed": true
   },
   "outputs": [],
   "source": [
    "bet1617Draw = bet1617.filter(regex='D')"
   ]
  },
  {
   "cell_type": "code",
   "execution_count": 171,
   "metadata": {
    "collapsed": true
   },
   "outputs": [],
   "source": [
    "bet1617Draw = bet1617[['B365D', 'BWD', 'IWD', 'LBD', 'PSD','WHD',\"VCD\"]].copy()\n",
    "bet1617Draw2 = pd.concat([bet1617const,bet1617Draw], axis=1, join_axes=[bet1617const.index])\n",
    "Draw = bet1617Draw2[bet1617Draw2[\"FTR\"] == \"D\"]"
   ]
  },
  {
   "cell_type": "code",
   "execution_count": 172,
   "metadata": {},
   "outputs": [
    {
     "data": {
      "text/html": [
       "<div>\n",
       "<style scoped>\n",
       "    .dataframe tbody tr th:only-of-type {\n",
       "        vertical-align: middle;\n",
       "    }\n",
       "\n",
       "    .dataframe tbody tr th {\n",
       "        vertical-align: top;\n",
       "    }\n",
       "\n",
       "    .dataframe thead th {\n",
       "        text-align: right;\n",
       "    }\n",
       "</style>\n",
       "<table border=\"1\" class=\"dataframe\">\n",
       "  <thead>\n",
       "    <tr style=\"text-align: right;\">\n",
       "      <th></th>\n",
       "      <th>Date</th>\n",
       "      <th>HomeTeam</th>\n",
       "      <th>AwayTeam</th>\n",
       "      <th>FTR</th>\n",
       "      <th>B365D</th>\n",
       "      <th>BWD</th>\n",
       "      <th>IWD</th>\n",
       "      <th>LBD</th>\n",
       "      <th>PSD</th>\n",
       "      <th>WHD</th>\n",
       "      <th>VCD</th>\n",
       "    </tr>\n",
       "  </thead>\n",
       "  <tbody>\n",
       "    <tr>\n",
       "      <th>2</th>\n",
       "      <td>13/8/16</td>\n",
       "      <td>Everton</td>\n",
       "      <td>Tottenham</td>\n",
       "      <td>D</td>\n",
       "      <td>3.40</td>\n",
       "      <td>3.2</td>\n",
       "      <td>3.3</td>\n",
       "      <td>3.40</td>\n",
       "      <td>3.43</td>\n",
       "      <td>3.1</td>\n",
       "      <td>3.4</td>\n",
       "    </tr>\n",
       "    <tr>\n",
       "      <th>5</th>\n",
       "      <td>13/8/16</td>\n",
       "      <td>Middlesbrough</td>\n",
       "      <td>Stoke</td>\n",
       "      <td>D</td>\n",
       "      <td>3.20</td>\n",
       "      <td>3.1</td>\n",
       "      <td>3.3</td>\n",
       "      <td>3.20</td>\n",
       "      <td>3.24</td>\n",
       "      <td>3.1</td>\n",
       "      <td>3.2</td>\n",
       "    </tr>\n",
       "    <tr>\n",
       "      <th>6</th>\n",
       "      <td>13/8/16</td>\n",
       "      <td>Southampton</td>\n",
       "      <td>Watford</td>\n",
       "      <td>D</td>\n",
       "      <td>3.75</td>\n",
       "      <td>3.4</td>\n",
       "      <td>3.5</td>\n",
       "      <td>3.60</td>\n",
       "      <td>3.68</td>\n",
       "      <td>3.4</td>\n",
       "      <td>3.6</td>\n",
       "    </tr>\n",
       "    <tr>\n",
       "      <th>12</th>\n",
       "      <td>20/8/16</td>\n",
       "      <td>Leicester</td>\n",
       "      <td>Arsenal</td>\n",
       "      <td>D</td>\n",
       "      <td>3.60</td>\n",
       "      <td>3.6</td>\n",
       "      <td>3.3</td>\n",
       "      <td>3.60</td>\n",
       "      <td>3.60</td>\n",
       "      <td>3.2</td>\n",
       "      <td>3.6</td>\n",
       "    </tr>\n",
       "    <tr>\n",
       "      <th>21</th>\n",
       "      <td>27/8/16</td>\n",
       "      <td>Crystal Palace</td>\n",
       "      <td>Bournemouth</td>\n",
       "      <td>D</td>\n",
       "      <td>3.20</td>\n",
       "      <td>3.2</td>\n",
       "      <td>3.3</td>\n",
       "      <td>3.25</td>\n",
       "      <td>3.38</td>\n",
       "      <td>3.2</td>\n",
       "      <td>3.3</td>\n",
       "    </tr>\n",
       "  </tbody>\n",
       "</table>\n",
       "</div>"
      ],
      "text/plain": [
       "       Date        HomeTeam     AwayTeam FTR  B365D  BWD  IWD   LBD   PSD  \\\n",
       "2   13/8/16         Everton    Tottenham   D   3.40  3.2  3.3  3.40  3.43   \n",
       "5   13/8/16   Middlesbrough        Stoke   D   3.20  3.1  3.3  3.20  3.24   \n",
       "6   13/8/16     Southampton      Watford   D   3.75  3.4  3.5  3.60  3.68   \n",
       "12  20/8/16       Leicester      Arsenal   D   3.60  3.6  3.3  3.60  3.60   \n",
       "21  27/8/16  Crystal Palace  Bournemouth   D   3.20  3.2  3.3  3.25  3.38   \n",
       "\n",
       "    WHD  VCD  \n",
       "2   3.1  3.4  \n",
       "5   3.1  3.2  \n",
       "6   3.4  3.6  \n",
       "12  3.2  3.6  \n",
       "21  3.2  3.3  "
      ]
     },
     "execution_count": 172,
     "metadata": {},
     "output_type": "execute_result"
    }
   ],
   "source": [
    "Draw.head()"
   ]
  },
  {
   "cell_type": "markdown",
   "metadata": {},
   "source": [
    "### Plotting the number of times each betting company has the highest odds for Draws"
   ]
  },
  {
   "cell_type": "code",
   "execution_count": 212,
   "metadata": {},
   "outputs": [
    {
     "name": "stderr",
     "output_type": "stream",
     "text": [
      "/anaconda3/envs/py27/lib/python2.7/site-packages/ipykernel_launcher.py:2: SettingWithCopyWarning: \n",
      "A value is trying to be set on a copy of a slice from a DataFrame.\n",
      "Try using .loc[row_indexer,col_indexer] = value instead\n",
      "\n",
      "See the caveats in the documentation: http://pandas.pydata.org/pandas-docs/stable/indexing.html#indexing-view-versus-copy\n",
      "  \n",
      "/anaconda3/envs/py27/lib/python2.7/site-packages/ipykernel_launcher.py:5: SettingWithCopyWarning: \n",
      "A value is trying to be set on a copy of a slice from a DataFrame.\n",
      "Try using .loc[row_indexer,col_indexer] = value instead\n",
      "\n",
      "See the caveats in the documentation: http://pandas.pydata.org/pandas-docs/stable/indexing.html#indexing-view-versus-copy\n",
      "  \"\"\"\n"
     ]
    },
    {
     "data": {
      "text/plain": [
       "Text(0.5,1,u'No. of times with highest odds (DRAW)')"
      ]
     },
     "execution_count": 212,
     "metadata": {},
     "output_type": "execute_result"
    },
    {
     "data": {
      "image/png": "[encoded data removed]",
      "text/plain": [
       "<matplotlib.figure.Figure at 0x1a1c5552d0>"
      ]
     },
     "metadata": {},
     "output_type": "display_data"
    }
   ],
   "source": [
    "Dmax = Draw.loc[:, 'B365D':'VCD']\n",
    "Draw[\"Mean Accurate Odds (DRAW)\"] = Dmax.idxmax(axis=1)\n",
    "fig, ax = plt.subplots()\n",
    "Draw[\"Mean Accurate Odds (DRAW)\"].value_counts().plot(ax=ax, kind='bar')\n",
    "Draw[\"Drawinmax\"] = Dmax.apply( max, axis=1 )\n",
    "plt.title('No. of times with highest odds (DRAW)', fontsize=20)"
   ]
  },
  {
   "cell_type": "markdown",
   "metadata": {},
   "source": [
    "###  Plotting of the mean accurate odds for Draws by each betting company"
   ]
  },
  {
   "cell_type": "code",
   "execution_count": 213,
   "metadata": {},
   "outputs": [
    {
     "data": {
      "text/plain": [
       "Text(0.5,1,u'Mean of highest odds (DRAW)')"
      ]
     },
     "execution_count": 213,
     "metadata": {},
     "output_type": "execute_result"
    },
    {
     "data": {
      "image/png": "[encoded data removed]",
      "text/plain": [
       "<matplotlib.figure.Figure at 0x1a1e84ef90>"
      ]
     },
     "metadata": {},
     "output_type": "display_data"
    }
   ],
   "source": [
    "Drawbb = Draw.groupby(\"Mean Accurate Odds (DRAW)\").Drawinmax.mean()\n",
    "fig, ax = plt.subplots()\n",
    "Drawbb.plot(ax=ax, kind='barh')\n",
    "plt.title('Mean of highest odds (DRAW)', fontsize=20)"
   ]
  }
 ],
 "metadata": {
  "kernelspec": {
   "display_name": "Python 3",
   "language": "python",
   "name": "python3"
  },
  "language_info": {
   "codemirror_mode": {
    "name": "ipython",
    "version": 3
   },
   "file_extension": ".py",
   "mimetype": "text/x-python",
   "name": "python",
   "nbconvert_exporter": "python",
   "pygments_lexer": "ipython3",
   "version": "3.6.3"
  }
 },
 "nbformat": 4,
 "nbformat_minor": 2
}
