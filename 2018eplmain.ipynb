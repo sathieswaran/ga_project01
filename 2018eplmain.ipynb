{
 "cells": [
  {
   "cell_type": "code",
   "execution_count": 47,
   "metadata": {},
   "outputs": [],
   "source": [
    "#http://www.football-data.co.uk/englandm.php(source)\n",
    "import numpy as np\n",
    "import scipy.stats as stats\n",
    "import seaborn as sns\n",
    "import matplotlib.pyplot as plt\n",
    "import pandas as pd\n",
    "import math\n",
    "import csv\n",
    "\n",
    "from sklearn.linear_model import LinearRegression\n",
    "from sklearn.linear_model import Ridge, Lasso, ElasticNet, LinearRegression, RidgeCV, LassoCV, ElasticNetCV\n",
    "from sklearn.model_selection import cross_val_score\n",
    "from sklearn.metrics import mean_squared_error\n",
    "from sklearn.linear_model import LogisticRegression\n",
    "from sklearn.metrics import confusion_matrix\n",
    "from sklearn.feature_selection import RFE\n",
    "from sklearn.ensemble import RandomForestClassifier\n",
    "from sklearn.ensemble import RandomForestRegressor\n",
    "from sklearn.cross_validation import train_test_split\n",
    "import matplotlib\n",
    "import matplotlib.pyplot as plt\n",
    "import seaborn as sns\n",
    "from sklearn.neighbors import KNeighborsClassifier\n",
    "from sklearn.ensemble import ExtraTreesClassifier\n",
    "from sklearn.ensemble import GradientBoostingClassifier\n",
    "from sklearn.ensemble import GradientBoostingRegressor\n",
    "from sklearn.metrics import accuracy_score\n",
    "from sklearn.ensemble import ExtraTreesRegressor\n",
    "from sklearn.svm import SVR\n",
    "from sklearn.ensemble import GradientBoostingRegressor\n",
    "from sklearn.ensemble import AdaBoostRegressor\n",
    "plt.style.use('fivethirtyeight')\n",
    "sns.set_style('whitegrid')\n",
    "\n",
    "%config InlineBackend.figure_format = 'retina'\n",
    "%matplotlib inline"
   ]
  },
  {
   "cell_type": "markdown",
   "metadata": {},
   "source": [
    "## Dataset"
   ]
  },
  {
   "cell_type": "code",
   "execution_count": 48,
   "metadata": {
    "collapsed": true
   },
   "outputs": [],
   "source": [
    "epl1617 = \"./EPL16:17.csv\"\n",
    "df1617 = pd.read_csv(epl1617)\n",
    "\n",
    "epl1516 = \"./EPL 15:16.csv\"\n",
    "df1516 = pd.read_csv(epl1516)"
   ]
  },
  {
   "cell_type": "markdown",
   "metadata": {},
   "source": [
    "## List of all the teams"
   ]
  },
  {
   "cell_type": "code",
   "execution_count": 49,
   "metadata": {},
   "outputs": [
    {
     "data": {
      "text/html": [
       "<div>\n",
       "<style>\n",
       "    .dataframe thead tr:only-child th {\n",
       "        text-align: right;\n",
       "    }\n",
       "\n",
       "    .dataframe thead th {\n",
       "        text-align: left;\n",
       "    }\n",
       "\n",
       "    .dataframe tbody tr th {\n",
       "        vertical-align: top;\n",
       "    }\n",
       "</style>\n",
       "<table border=\"1\" class=\"dataframe\">\n",
       "  <thead>\n",
       "    <tr style=\"text-align: right;\">\n",
       "      <th></th>\n",
       "      <th>Team_name</th>\n",
       "    </tr>\n",
       "  </thead>\n",
       "  <tbody>\n",
       "    <tr>\n",
       "      <th>8</th>\n",
       "      <td>Liverpool</td>\n",
       "    </tr>\n",
       "  </tbody>\n",
       "</table>\n",
       "</div>"
      ],
      "text/plain": [
       "   Team_name\n",
       "8  Liverpool"
      ]
     },
     "execution_count": 49,
     "metadata": {},
     "output_type": "execute_result"
    }
   ],
   "source": [
    "teamList = [\"Arsenal\", \"Bournemouth\", \"Burnley\", \"Chelsea\", \"Crystal Palace\", \"Everton\", \"Huddersfield\", \"Leicester\", \"Liverpool\", \"Man City\", \"Man United\", \"Brighton\", \"Southampton\", \"Stoke\", \"Newcastle United\", \"Swansea\", \"Tottenham\", \"Watford\", \"West Brom\", \"West Ham\"]\n",
    "team_names = pd.DataFrame(teamList, columns=['Team_name'])\n",
    "(team_names[team_names[\"Team_name\"]  == \"Liverpool\"])"
   ]
  },
  {
   "cell_type": "markdown",
   "metadata": {},
   "source": [
    "## Creating winner and loser column"
   ]
  },
  {
   "cell_type": "code",
   "execution_count": 50,
   "metadata": {
    "collapsed": true
   },
   "outputs": [],
   "source": [
    "def win(row):\n",
    "    if (row[\"FTR\"] == \"A\"):\n",
    "        return row[\"AwayTeam\"]\n",
    "    elif (row[\"FTR\"] == \"H\"):\n",
    "        return row[\"HomeTeam\"]\n",
    "    elif (row[\"FTR\"] == \"D\"):\n",
    "        return \"None\"\n",
    "    \n",
    "\n",
    "def lose(row):\n",
    "    if (row[\"FTR\"] == \"A\"):\n",
    "        return row[\"HomeTeam\"]\n",
    "    elif (row[\"FTR\"]  == \"H\"):\n",
    "        return row[\"AwayTeam\"]\n",
    "    elif (row[\"FTR\"]  == \"D\"):\n",
    "        return \"None\"\n",
    "\n",
    "df1617[\"Winner\"] = df1617.apply(win, axis=1) \n",
    "df1617[\"Loser\"] = df1617.apply(lose, axis=1)\n",
    "\n",
    "df1516[\"Winner\"] = df1516.apply(win, axis=1) \n",
    "df1516[\"Loser\"] = df1516.apply(lose, axis=1)"
   ]
  },
  {
   "cell_type": "code",
   "execution_count": 51,
   "metadata": {},
   "outputs": [
    {
     "data": {
      "text/html": [
       "<div>\n",
       "<style>\n",
       "    .dataframe thead tr:only-child th {\n",
       "        text-align: right;\n",
       "    }\n",
       "\n",
       "    .dataframe thead th {\n",
       "        text-align: left;\n",
       "    }\n",
       "\n",
       "    .dataframe tbody tr th {\n",
       "        vertical-align: top;\n",
       "    }\n",
       "</style>\n",
       "<table border=\"1\" class=\"dataframe\">\n",
       "  <thead>\n",
       "    <tr style=\"text-align: right;\">\n",
       "      <th></th>\n",
       "      <th>Div</th>\n",
       "      <th>Date</th>\n",
       "      <th>HomeTeam</th>\n",
       "      <th>AwayTeam</th>\n",
       "      <th>FTHG</th>\n",
       "      <th>FTAG</th>\n",
       "      <th>FTR</th>\n",
       "      <th>HTHG</th>\n",
       "      <th>HTAG</th>\n",
       "      <th>HTR</th>\n",
       "      <th>...</th>\n",
       "      <th>HF</th>\n",
       "      <th>AF</th>\n",
       "      <th>HC</th>\n",
       "      <th>AC</th>\n",
       "      <th>HY</th>\n",
       "      <th>AY</th>\n",
       "      <th>HR</th>\n",
       "      <th>AR</th>\n",
       "      <th>Winner</th>\n",
       "      <th>Loser</th>\n",
       "    </tr>\n",
       "  </thead>\n",
       "  <tbody>\n",
       "    <tr>\n",
       "      <th>0</th>\n",
       "      <td>E0</td>\n",
       "      <td>13/8/16</td>\n",
       "      <td>Burnley</td>\n",
       "      <td>Swansea</td>\n",
       "      <td>0</td>\n",
       "      <td>1</td>\n",
       "      <td>A</td>\n",
       "      <td>0</td>\n",
       "      <td>0</td>\n",
       "      <td>D</td>\n",
       "      <td>...</td>\n",
       "      <td>10</td>\n",
       "      <td>14</td>\n",
       "      <td>7</td>\n",
       "      <td>4</td>\n",
       "      <td>3</td>\n",
       "      <td>2</td>\n",
       "      <td>0</td>\n",
       "      <td>0</td>\n",
       "      <td>Swansea</td>\n",
       "      <td>Burnley</td>\n",
       "    </tr>\n",
       "    <tr>\n",
       "      <th>1</th>\n",
       "      <td>E0</td>\n",
       "      <td>13/8/16</td>\n",
       "      <td>Crystal Palace</td>\n",
       "      <td>West Brom</td>\n",
       "      <td>0</td>\n",
       "      <td>1</td>\n",
       "      <td>A</td>\n",
       "      <td>0</td>\n",
       "      <td>0</td>\n",
       "      <td>D</td>\n",
       "      <td>...</td>\n",
       "      <td>12</td>\n",
       "      <td>15</td>\n",
       "      <td>3</td>\n",
       "      <td>6</td>\n",
       "      <td>2</td>\n",
       "      <td>2</td>\n",
       "      <td>0</td>\n",
       "      <td>0</td>\n",
       "      <td>West Brom</td>\n",
       "      <td>Crystal Palace</td>\n",
       "    </tr>\n",
       "    <tr>\n",
       "      <th>2</th>\n",
       "      <td>E0</td>\n",
       "      <td>13/8/16</td>\n",
       "      <td>Everton</td>\n",
       "      <td>Tottenham</td>\n",
       "      <td>1</td>\n",
       "      <td>1</td>\n",
       "      <td>D</td>\n",
       "      <td>1</td>\n",
       "      <td>0</td>\n",
       "      <td>H</td>\n",
       "      <td>...</td>\n",
       "      <td>10</td>\n",
       "      <td>14</td>\n",
       "      <td>5</td>\n",
       "      <td>6</td>\n",
       "      <td>0</td>\n",
       "      <td>0</td>\n",
       "      <td>0</td>\n",
       "      <td>0</td>\n",
       "      <td>None</td>\n",
       "      <td>None</td>\n",
       "    </tr>\n",
       "    <tr>\n",
       "      <th>3</th>\n",
       "      <td>E0</td>\n",
       "      <td>13/8/16</td>\n",
       "      <td>Hull</td>\n",
       "      <td>Leicester</td>\n",
       "      <td>2</td>\n",
       "      <td>1</td>\n",
       "      <td>H</td>\n",
       "      <td>1</td>\n",
       "      <td>0</td>\n",
       "      <td>H</td>\n",
       "      <td>...</td>\n",
       "      <td>8</td>\n",
       "      <td>17</td>\n",
       "      <td>5</td>\n",
       "      <td>3</td>\n",
       "      <td>2</td>\n",
       "      <td>2</td>\n",
       "      <td>0</td>\n",
       "      <td>0</td>\n",
       "      <td>Hull</td>\n",
       "      <td>Leicester</td>\n",
       "    </tr>\n",
       "    <tr>\n",
       "      <th>4</th>\n",
       "      <td>E0</td>\n",
       "      <td>13/8/16</td>\n",
       "      <td>Man City</td>\n",
       "      <td>Sunderland</td>\n",
       "      <td>2</td>\n",
       "      <td>1</td>\n",
       "      <td>H</td>\n",
       "      <td>1</td>\n",
       "      <td>0</td>\n",
       "      <td>H</td>\n",
       "      <td>...</td>\n",
       "      <td>11</td>\n",
       "      <td>14</td>\n",
       "      <td>9</td>\n",
       "      <td>6</td>\n",
       "      <td>1</td>\n",
       "      <td>2</td>\n",
       "      <td>0</td>\n",
       "      <td>0</td>\n",
       "      <td>Man City</td>\n",
       "      <td>Sunderland</td>\n",
       "    </tr>\n",
       "  </tbody>\n",
       "</table>\n",
       "<p>5 rows × 25 columns</p>\n",
       "</div>"
      ],
      "text/plain": [
       "  Div     Date        HomeTeam    AwayTeam  FTHG  FTAG FTR  HTHG  HTAG HTR  \\\n",
       "0  E0  13/8/16         Burnley     Swansea     0     1   A     0     0   D   \n",
       "1  E0  13/8/16  Crystal Palace   West Brom     0     1   A     0     0   D   \n",
       "2  E0  13/8/16         Everton   Tottenham     1     1   D     1     0   H   \n",
       "3  E0  13/8/16            Hull   Leicester     2     1   H     1     0   H   \n",
       "4  E0  13/8/16        Man City  Sunderland     2     1   H     1     0   H   \n",
       "\n",
       "        ...        HF  AF  HC  AC  HY  AY  HR  AR     Winner           Loser  \n",
       "0       ...        10  14   7   4   3   2   0   0    Swansea         Burnley  \n",
       "1       ...        12  15   3   6   2   2   0   0  West Brom  Crystal Palace  \n",
       "2       ...        10  14   5   6   0   0   0   0       None            None  \n",
       "3       ...         8  17   5   3   2   2   0   0       Hull       Leicester  \n",
       "4       ...        11  14   9   6   1   2   0   0   Man City      Sunderland  \n",
       "\n",
       "[5 rows x 25 columns]"
      ]
     },
     "execution_count": 51,
     "metadata": {},
     "output_type": "execute_result"
    }
   ],
   "source": [
    "df1617.head()"
   ]
  },
  {
   "cell_type": "code",
   "execution_count": 52,
   "metadata": {},
   "outputs": [
    {
     "data": {
      "text/html": [
       "<div>\n",
       "<style>\n",
       "    .dataframe thead tr:only-child th {\n",
       "        text-align: right;\n",
       "    }\n",
       "\n",
       "    .dataframe thead th {\n",
       "        text-align: left;\n",
       "    }\n",
       "\n",
       "    .dataframe tbody tr th {\n",
       "        vertical-align: top;\n",
       "    }\n",
       "</style>\n",
       "<table border=\"1\" class=\"dataframe\">\n",
       "  <thead>\n",
       "    <tr style=\"text-align: right;\">\n",
       "      <th></th>\n",
       "      <th>Div</th>\n",
       "      <th>Date</th>\n",
       "      <th>HomeTeam</th>\n",
       "      <th>AwayTeam</th>\n",
       "      <th>FTHG</th>\n",
       "      <th>FTAG</th>\n",
       "      <th>FTR</th>\n",
       "      <th>HTHG</th>\n",
       "      <th>HTAG</th>\n",
       "      <th>HTR</th>\n",
       "      <th>...</th>\n",
       "      <th>HF</th>\n",
       "      <th>AF</th>\n",
       "      <th>HC</th>\n",
       "      <th>AC</th>\n",
       "      <th>HY</th>\n",
       "      <th>AY</th>\n",
       "      <th>HR</th>\n",
       "      <th>AR</th>\n",
       "      <th>Winner</th>\n",
       "      <th>Loser</th>\n",
       "    </tr>\n",
       "  </thead>\n",
       "  <tbody>\n",
       "    <tr>\n",
       "      <th>0</th>\n",
       "      <td>E0</td>\n",
       "      <td>8/8/15</td>\n",
       "      <td>Bournemouth</td>\n",
       "      <td>Aston Villa</td>\n",
       "      <td>0</td>\n",
       "      <td>1</td>\n",
       "      <td>A</td>\n",
       "      <td>0</td>\n",
       "      <td>0</td>\n",
       "      <td>D</td>\n",
       "      <td>...</td>\n",
       "      <td>13</td>\n",
       "      <td>13</td>\n",
       "      <td>6</td>\n",
       "      <td>3</td>\n",
       "      <td>3</td>\n",
       "      <td>4</td>\n",
       "      <td>0</td>\n",
       "      <td>0</td>\n",
       "      <td>Aston Villa</td>\n",
       "      <td>Bournemouth</td>\n",
       "    </tr>\n",
       "    <tr>\n",
       "      <th>1</th>\n",
       "      <td>E0</td>\n",
       "      <td>8/8/15</td>\n",
       "      <td>Chelsea</td>\n",
       "      <td>Swansea</td>\n",
       "      <td>2</td>\n",
       "      <td>2</td>\n",
       "      <td>D</td>\n",
       "      <td>2</td>\n",
       "      <td>1</td>\n",
       "      <td>H</td>\n",
       "      <td>...</td>\n",
       "      <td>15</td>\n",
       "      <td>16</td>\n",
       "      <td>4</td>\n",
       "      <td>8</td>\n",
       "      <td>1</td>\n",
       "      <td>3</td>\n",
       "      <td>1</td>\n",
       "      <td>0</td>\n",
       "      <td>None</td>\n",
       "      <td>None</td>\n",
       "    </tr>\n",
       "    <tr>\n",
       "      <th>2</th>\n",
       "      <td>E0</td>\n",
       "      <td>8/8/15</td>\n",
       "      <td>Everton</td>\n",
       "      <td>Watford</td>\n",
       "      <td>2</td>\n",
       "      <td>2</td>\n",
       "      <td>D</td>\n",
       "      <td>0</td>\n",
       "      <td>1</td>\n",
       "      <td>A</td>\n",
       "      <td>...</td>\n",
       "      <td>7</td>\n",
       "      <td>13</td>\n",
       "      <td>8</td>\n",
       "      <td>2</td>\n",
       "      <td>1</td>\n",
       "      <td>2</td>\n",
       "      <td>0</td>\n",
       "      <td>0</td>\n",
       "      <td>None</td>\n",
       "      <td>None</td>\n",
       "    </tr>\n",
       "    <tr>\n",
       "      <th>3</th>\n",
       "      <td>E0</td>\n",
       "      <td>8/8/15</td>\n",
       "      <td>Leicester</td>\n",
       "      <td>Sunderland</td>\n",
       "      <td>4</td>\n",
       "      <td>2</td>\n",
       "      <td>H</td>\n",
       "      <td>3</td>\n",
       "      <td>0</td>\n",
       "      <td>H</td>\n",
       "      <td>...</td>\n",
       "      <td>13</td>\n",
       "      <td>17</td>\n",
       "      <td>6</td>\n",
       "      <td>3</td>\n",
       "      <td>2</td>\n",
       "      <td>4</td>\n",
       "      <td>0</td>\n",
       "      <td>0</td>\n",
       "      <td>Leicester</td>\n",
       "      <td>Sunderland</td>\n",
       "    </tr>\n",
       "    <tr>\n",
       "      <th>4</th>\n",
       "      <td>E0</td>\n",
       "      <td>8/8/15</td>\n",
       "      <td>Man United</td>\n",
       "      <td>Tottenham</td>\n",
       "      <td>1</td>\n",
       "      <td>0</td>\n",
       "      <td>H</td>\n",
       "      <td>1</td>\n",
       "      <td>0</td>\n",
       "      <td>H</td>\n",
       "      <td>...</td>\n",
       "      <td>12</td>\n",
       "      <td>12</td>\n",
       "      <td>1</td>\n",
       "      <td>2</td>\n",
       "      <td>2</td>\n",
       "      <td>3</td>\n",
       "      <td>0</td>\n",
       "      <td>0</td>\n",
       "      <td>Man United</td>\n",
       "      <td>Tottenham</td>\n",
       "    </tr>\n",
       "  </tbody>\n",
       "</table>\n",
       "<p>5 rows × 25 columns</p>\n",
       "</div>"
      ],
      "text/plain": [
       "  Div    Date     HomeTeam     AwayTeam  FTHG  FTAG FTR  HTHG  HTAG HTR  \\\n",
       "0  E0  8/8/15  Bournemouth  Aston Villa     0     1   A     0     0   D   \n",
       "1  E0  8/8/15      Chelsea      Swansea     2     2   D     2     1   H   \n",
       "2  E0  8/8/15      Everton      Watford     2     2   D     0     1   A   \n",
       "3  E0  8/8/15    Leicester   Sunderland     4     2   H     3     0   H   \n",
       "4  E0  8/8/15   Man United    Tottenham     1     0   H     1     0   H   \n",
       "\n",
       "      ...       HF  AF  HC  AC  HY  AY  HR  AR       Winner        Loser  \n",
       "0     ...       13  13   6   3   3   4   0   0  Aston Villa  Bournemouth  \n",
       "1     ...       15  16   4   8   1   3   1   0         None         None  \n",
       "2     ...        7  13   8   2   1   2   0   0         None         None  \n",
       "3     ...       13  17   6   3   2   4   0   0    Leicester   Sunderland  \n",
       "4     ...       12  12   1   2   2   3   0   0   Man United    Tottenham  \n",
       "\n",
       "[5 rows x 25 columns]"
      ]
     },
     "execution_count": 52,
     "metadata": {},
     "output_type": "execute_result"
    }
   ],
   "source": [
    "df1516.head()"
   ]
  },
  {
   "cell_type": "markdown",
   "metadata": {},
   "source": [
    "## 16/17 dataset"
   ]
  },
  {
   "cell_type": "code",
   "execution_count": 53,
   "metadata": {
    "collapsed": true
   },
   "outputs": [],
   "source": [
    "#goals scored in wins and losses\n",
    "def TeamData(teamName):\n",
    "    annual_data = df1617\n",
    "    #num goals scored in wins and losses \n",
    "    gamesHome = annual_data[annual_data[\"HomeTeam\"] == teamName]\n",
    "    totalGoalsScored = gamesHome[\"FTHG\"].sum()\n",
    "    gamesAway = annual_data[annual_data[\"AwayTeam\"] == teamName]\n",
    "    totalGames = gamesHome.append(gamesAway)\n",
    "    numGames = len(totalGames.index)\n",
    "    #total goals scored\n",
    "    totalGoalsScored += gamesAway[\"FTAG\"].sum()\n",
    "    #total goals allowed\n",
    "    totalGoalsAllowed = gamesHome[\"FTAG\"].sum()\n",
    "    totalGoalsAllowed += gamesAway[\"FTHG\"].sum()\n",
    "    #discipline: total red cards, total yellow cards\n",
    "    totalYellowCards = gamesHome[\"HY\"].sum()\n",
    "    totalYellowCards += gamesAway[\"AY\"].sum()\n",
    "    totalRedCards = gamesHome[\"HR\"].sum()\n",
    "    totalRedCards += gamesHome[\"AY\"].sum() \n",
    "    #total fouls \n",
    "    totalFouls = gamesHome[\"HF\"].sum()\n",
    "    totalFouls += gamesAway[\"AF\"].sum()\n",
    "    #total corners\n",
    "    totalCorners = gamesHome[\"HC\"].sum()\n",
    "    totalCorners += gamesAway[\"AC\"].sum()\n",
    "    #shots per game (spg) = total shots / total games\n",
    "    totalShots = gamesHome[\"HS\"].sum()\n",
    "    #avgshots per game\n",
    "    totalShots += gamesAway[\"AS\"].sum()\n",
    "    if numGames != 0:\n",
    "        spg = totalShots / numGames\n",
    "    # avg shots allowed per game\n",
    "    totalShotsAgainst = gamesHome[\"AS\"].sum()\n",
    "    totalShotsAgainst += gamesAway[\"HS\"].sum()\n",
    "    if numGames != 0:\n",
    "        sag = totalShotsAgainst / numGames\n",
    "    #Games Won percentage = Games Won / (Games won + Games Lost)\n",
    "    gamesWon = annual_data[annual_data[\"Winner\"] == teamName]\n",
    "    gamesLost = annual_data[annual_data[\"Loser\"] == teamName]\n",
    "    numGamesWon = len(gamesWon.index)\n",
    "    numGamesLost = len(gamesLost.index)\n",
    "    if numGames != 0:\n",
    "        gamesWonPercentage = numGamesWon / numGames\n",
    "     #Defense stats\n",
    "        #Goalie Saves = Shots on Goal - Goal Scored\n",
    "    #totalShotsonGoal = tsog\n",
    "    tsog  = gamesHome[\"HST\"].sum()\n",
    "    tsog += gamesAway[\"AST\"].sum()\n",
    "    goalieSaves = tsog - totalGoalsAllowed\n",
    "       #Saves Percentage = Goalie Saves / Shots on Goal\n",
    "    if tsog != 0:\n",
    "        savesPercentage = goalieSaves / tsog\n",
    "        #Saves Ratio = shots on Goal / Goalie Saves\n",
    "    if goalieSaves != 0:\n",
    "        savesRatio = tsog / goalieSaves\n",
    "    \n",
    "    #offense stats\n",
    "        #Scoring Percentage = (Scoring Attempts - Goals Scored) / Scorring Attempts\n",
    "    if totalShots != 0 :\n",
    "        scoringPercentage = (totalShots - totalGoalsScored) / totalShots\n",
    "        #Scoring Ratio = Shots on Goal / Goalie Saves\n",
    "    if tsog != 0:\n",
    "        scoringRatio = tsog / totalGoalsScored\n",
    "        \n",
    "    if numGames == 0: #if team not in dataset\n",
    "        gamesWon = 0 \n",
    "        gamesLost = 0\n",
    "        totalGoalsScored = 0\n",
    "        totalGoalsAllowed = 0\n",
    "        totalYellowCards = 0\n",
    "        totalRedCards = 0\n",
    "        totalFouls = 0\n",
    "        totalCorners = 0\n",
    "        spg = 0\n",
    "        sag = 0\n",
    "        gamesWonPercentage = 0\n",
    "        goalieSaves = 0 \n",
    "        savesPercentage = 0\n",
    "        savesRatio= 0\n",
    "        scoringPercentage = 0 \n",
    "        scoringRatio = 0 \n",
    "\n",
    "    return[totalGoalsScored, totalGoalsAllowed, totalYellowCards, totalRedCards, scoringPercentage, totalFouls, totalCorners, spg, sag, gamesWonPercentage,goalieSaves, savesPercentage, savesRatio, scoringRatio]"
   ]
  },
  {
   "cell_type": "markdown",
   "metadata": {},
   "source": [
    "## 16/ 17 Model training"
   ]
  },
  {
   "cell_type": "code",
   "execution_count": 54,
   "metadata": {
    "collapsed": true
   },
   "outputs": [],
   "source": [
    "totalNumGames = 0 \n",
    "totalNumGames += len(df1617.index)\n",
    "numFeatures = len(TeamData(\"Arsenal\"))# to find dimensionality\n",
    "xTrain1 = np.zeros((totalNumGames, numFeatures))\n",
    "yTrain1 = np.zeros((totalNumGames))                     "
   ]
  },
  {
   "cell_type": "code",
   "execution_count": 55,
   "metadata": {
    "collapsed": true
   },
   "outputs": [],
   "source": [
    "from collections import defaultdict\n",
    "annualDictionary = defaultdict(list)\n",
    "for team in teamList:\n",
    "    team_vector = TeamData(team)\n",
    "    annualDictionary[team] = team_vector"
   ]
  },
  {
   "cell_type": "code",
   "execution_count": 56,
   "metadata": {
    "collapsed": true
   },
   "outputs": [],
   "source": [
    "team_vectors = annualDictionary\n",
    "annual = df1617\n",
    "numGamesInYear = len(annual.index)\n",
    "xTrainAnnual = np.zeros((numGamesInYear, numFeatures))\n",
    "yTrainAnnual = np.zeros((numGamesInYear))\n",
    "counter = 0  "
   ]
  },
  {
   "cell_type": "code",
   "execution_count": 57,
   "metadata": {
    "collapsed": true
   },
   "outputs": [],
   "source": [
    "for index, row in annual.iterrows():\n",
    "    h_team = row[\"HomeTeam\"]\n",
    "    h_vector = team_vectors[h_team]\n",
    "    a_team = row[\"AwayTeam\"]\n",
    "    a_vector = team_vectors[a_team]\n",
    "    diff = [a-b for a, b in zip(h_vector, a_vector)]\n",
    "    if (counter % 2 == 0):\n",
    "        if len(diff) != 0:\n",
    "            xTrainAnnual[counter] = diff\n",
    "        yTrainAnnual[counter] = 1\n",
    "    else: \n",
    "        if len(diff)!=0:\n",
    "            xTrainAnnual[counter] = [-p for p in diff]\n",
    "        yTrainAnnual[counter] = 0\n",
    "    counter += 1"
   ]
  },
  {
   "cell_type": "code",
   "execution_count": 58,
   "metadata": {
    "collapsed": true
   },
   "outputs": [],
   "source": [
    "indexCounter = 0 \n",
    "xTrain1[indexCounter:numGamesInYear+indexCounter] = xTrainAnnual\n",
    "yTrain1[indexCounter:numGamesInYear+indexCounter] = yTrainAnnual\n",
    "indexCounter += numGamesInYear"
   ]
  },
  {
   "cell_type": "code",
   "execution_count": 59,
   "metadata": {},
   "outputs": [
    {
     "data": {
      "text/plain": [
       "(380,)"
      ]
     },
     "execution_count": 59,
     "metadata": {},
     "output_type": "execute_result"
    }
   ],
   "source": [
    "xTrain1.shape\n",
    "yTrain1.shape"
   ]
  },
  {
   "cell_type": "markdown",
   "metadata": {},
   "source": [
    "## 15/16 dataset"
   ]
  },
  {
   "cell_type": "code",
   "execution_count": 60,
   "metadata": {
    "collapsed": true
   },
   "outputs": [],
   "source": [
    "def TeamData2(teamName):\n",
    "    annual_data = df1516\n",
    "    #num goals scored in wins and losses \n",
    "    gamesHome = annual_data[annual_data[\"HomeTeam\"] == teamName]\n",
    "    totalGoalsScored = gamesHome[\"FTHG\"].sum()\n",
    "    gamesAway = annual_data[annual_data[\"AwayTeam\"] == teamName]\n",
    "    totalGames = gamesHome.append(gamesAway)\n",
    "    numGames = len(totalGames.index)\n",
    "    #total goals scored\n",
    "    totalGoalsScored += gamesAway[\"FTAG\"].sum()\n",
    "    #total goals allowed\n",
    "    totalGoalsAllowed = gamesHome[\"FTAG\"].sum()\n",
    "    totalGoalsAllowed += gamesAway[\"FTHG\"].sum()\n",
    "    #discipline: total red cards, total yellow cards\n",
    "    totalYellowCards = gamesHome[\"HY\"].sum()\n",
    "    totalYellowCards -= gamesAway[\"AY\"].sum()\n",
    "    totalRedCards = gamesHome[\"HR\"].sum()\n",
    "    totalRedCards -= gamesHome[\"AY\"].sum() \n",
    "    #total fouls \n",
    "    totalFouls = gamesHome[\"HF\"].sum()\n",
    "    totalFouls += gamesAway[\"AF\"].sum()\n",
    "    #total corners\n",
    "    totalCorners = gamesHome[\"HC\"].sum()\n",
    "    totalCorners += gamesAway[\"AC\"].sum()\n",
    "    #shots per game (spg) = total shots / total games\n",
    "    totalShots = gamesHome[\"HS\"].sum()\n",
    "    #avgshots per game\n",
    "    totalShots += gamesAway[\"AS\"].sum()\n",
    "    if numGames != 0:\n",
    "        spg = totalShots / numGames\n",
    "    # avg shots allowed per game\n",
    "    totalShotsAgainst = gamesHome[\"AS\"].sum()\n",
    "    totalShotsAgainst += gamesAway[\"HS\"].sum()\n",
    "    if numGames != 0:\n",
    "        sag = totalShotsAgainst / numGames\n",
    "    #Games Won percentage = Games Won / (Games won + Games Lost)\n",
    "    gamesWon = annual_data[annual_data[\"Winner\"] == teamName]\n",
    "    gamesLost = annual_data[annual_data[\"Loser\"] == teamName]\n",
    "    numGamesWon = len(gamesWon.index)\n",
    "    numGamesLost = len(gamesLost.index)\n",
    "    if numGames != 0:\n",
    "        gamesWonPercentage = numGamesWon / numGames\n",
    "     #Defense stats\n",
    "        #Goalie Saves = Shots on Goal - Goal Scored\n",
    "    #totalShotsonGoal = tsog\n",
    "    tsog  = gamesHome[\"HST\"].sum()\n",
    "    tsog += gamesAway[\"AST\"].sum()\n",
    "    goalieSaves = tsog - totalGoalsAllowed\n",
    "       #Saves Percentage = Goalie Saves / Shots on Goal\n",
    "    if tsog != 0:\n",
    "        savesPercentage = goalieSaves / tsog\n",
    "        #Saves Ratio = shots on Goal / Goalie Saves\n",
    "    if goalieSaves != 0:\n",
    "        savesRatio = tsog / goalieSaves\n",
    "    \n",
    "    #offense stats\n",
    "        #Scoring Percentage = (Scoring Attempts - Goals Scored) / Scorring Attempts\n",
    "    if totalShots != 0 :\n",
    "        scoringPercentage = (totalShots - totalGoalsScored) / totalShots\n",
    "        #Scoring Ratio = Shots on Goal / Goalie Saves\n",
    "    if tsog != 0:\n",
    "        scoringRatio = tsog / totalGoalsScored\n",
    "        \n",
    "    if numGames == 0: #if team not in dataset\n",
    "        gamesWon = 0 \n",
    "        gamesLost = 0\n",
    "        totalGoalsScored\n",
    "        totalGoalsAllowed = 0\n",
    "        totalYellowCards = 0\n",
    "        totalRedCards = 0\n",
    "        totalFouls = 0\n",
    "        totalCorners = 0\n",
    "        spg = 0\n",
    "        sag = 0\n",
    "        gamesWonPercentage = 0\n",
    "        goalieSaves = 0 \n",
    "        savesPercentage = 0\n",
    "        savesRatio= 0\n",
    "        scoringPercentage = 0 \n",
    "        scoringRatio = 0 \n",
    "\n",
    "    return[totalGoalsScored, totalGoalsAllowed, totalYellowCards, totalRedCards, totalFouls, totalCorners, spg, sag, gamesWonPercentage, goalieSaves, savesPercentage, savesRatio, scoringPercentage, scoringRatio]"
   ]
  },
  {
   "cell_type": "markdown",
   "metadata": {},
   "source": [
    "## 15/ 16 Model training"
   ]
  },
  {
   "cell_type": "code",
   "execution_count": 61,
   "metadata": {
    "collapsed": true
   },
   "outputs": [],
   "source": [
    "totalNumGames = 0 \n",
    "totalNumGames += len(df1516.index)\n",
    "numFeatures = len(TeamData2(\"Arsenal\"))# to find dimensionality\n",
    "xTrain2 = np.zeros((totalNumGames, numFeatures))\n",
    "yTrain2 = np.zeros((totalNumGames))\n",
    "\n",
    "from collections import defaultdict\n",
    "annualDictionary = defaultdict(list)\n",
    "for team in teamList:\n",
    "    team_vector = TeamData2(team)\n",
    "    annualDictionary[team] = team_vector\n",
    "\n",
    "team_vectors = annualDictionary\n",
    "annual = df1516\n",
    "numGamesInYear = len(annual.index)\n",
    "xTrainAnnual = np.zeros((numGamesInYear, numFeatures))\n",
    "yTrainAnnual = np.zeros((numGamesInYear))\n",
    "counter = 0 \n",
    "\n",
    "for index, row in annual.iterrows():\n",
    "    h_team = row[\"HomeTeam\"]\n",
    "    h_vector = team_vectors[h_team]\n",
    "    a_team = row[\"AwayTeam\"]\n",
    "    a_vector = team_vectors[a_team]\n",
    "    diff = [a-b for a, b in zip(h_vector, a_vector)]\n",
    "    if (counter % 2 == 0):\n",
    "        if len(diff) != 0:\n",
    "            xTrainAnnual[counter] = diff\n",
    "        yTrainAnnual[counter] = 1\n",
    "    else: \n",
    "        if len(diff)!=0:\n",
    "            xTrainAnnual[counter] = [-p for p in diff]\n",
    "        yTrainAnnual[counter] = 0\n",
    "    counter += 1\n",
    "\n",
    "indexCounter = 0 \n",
    "xTrain2[indexCounter:numGamesInYear+indexCounter] = xTrainAnnual\n",
    "yTrain2[indexCounter:numGamesInYear+indexCounter] = yTrainAnnual\n",
    "indexCounter += numGamesInYear"
   ]
  },
  {
   "cell_type": "code",
   "execution_count": 62,
   "metadata": {
    "collapsed": true
   },
   "outputs": [],
   "source": [
    "# [totalGoalsScored, totalGoalsAllowed, totalYellowCards, totalRedCards, totalFouls, totalCorners, spg, sag, gamesWonPercentage, goalieSaves, savesPercentage, savesRatio, scoringPercentage, scoringRatio]"
   ]
  },
  {
   "cell_type": "code",
   "execution_count": 63,
   "metadata": {},
   "outputs": [
    {
     "data": {
      "text/plain": [
       "(380, 14)"
      ]
     },
     "execution_count": 63,
     "metadata": {},
     "output_type": "execute_result"
    }
   ],
   "source": [
    "xTrain1.shape"
   ]
  },
  {
   "cell_type": "code",
   "execution_count": 64,
   "metadata": {},
   "outputs": [
    {
     "data": {
      "text/plain": [
       "(760, 14)"
      ]
     },
     "execution_count": 64,
     "metadata": {},
     "output_type": "execute_result"
    }
   ],
   "source": [
    "#xtrainfin = [xTrain2,xTrain]\n",
    "xtrainfin = np.concatenate([xTrain2,xTrain1], axis=0)\n",
    "xtrainfin.shape"
   ]
  },
  {
   "cell_type": "code",
   "execution_count": 65,
   "metadata": {},
   "outputs": [
    {
     "data": {
      "text/plain": [
       "(760,)"
      ]
     },
     "execution_count": 65,
     "metadata": {},
     "output_type": "execute_result"
    }
   ],
   "source": [
    "ytrainfin = np.concatenate([yTrain2,yTrain1], axis=0)\n",
    "ytrainfin.shape"
   ]
  },
  {
   "cell_type": "markdown",
   "metadata": {},
   "source": [
    "## Feature selection"
   ]
  },
  {
   "cell_type": "code",
   "execution_count": 66,
   "metadata": {
    "collapsed": true
   },
   "outputs": [],
   "source": [
    "model1 = LogisticRegression() #for recursive feature elimination\n",
    "model2 = ExtraTreesClassifier()\n",
    "model3 = RandomForestClassifier()"
   ]
  },
  {
   "cell_type": "code",
   "execution_count": 67,
   "metadata": {},
   "outputs": [
    {
     "name": "stdout",
     "output_type": "stream",
     "text": [
      "[False False False False False  True  True  True  True  True  True  True\n",
      "  True  True]\n",
      "[6 5 4 3 2 1 1 1 1 1 1 1 1 1]\n"
     ]
    }
   ],
   "source": [
    "rfe = RFE(model1, 9)\n",
    "rfe2 = rfe.fit(xtrainfin, ytrainfin)\n",
    "print (rfe2.support_)\n",
    "print (rfe2.ranking_)"
   ]
  },
  {
   "cell_type": "code",
   "execution_count": 68,
   "metadata": {},
   "outputs": [
    {
     "name": "stdout",
     "output_type": "stream",
     "text": [
      "[ 0.06924359  0.06555701  0.07074659  0.07446547  0.07731293  0.07861185\n",
      "  0.06992592  0.07766917  0.06316279  0.06370082  0.06734894  0.0726009\n",
      "  0.08039348  0.06926055]\n"
     ]
    }
   ],
   "source": [
    "model2.fit(xtrainfin, ytrainfin)\n",
    "print (model2.feature_importances_)\n",
    "#[totalGoalsScored, totalGoalsAllowed, totalYellowCards, totalRedCards, scoringPercentage, totalFouls, totalCorners, spg, sag, gamesWonPercentage,goalieSaves, savesPercentage, savesRatio, scoringRatio]"
   ]
  },
  {
   "cell_type": "code",
   "execution_count": 69,
   "metadata": {},
   "outputs": [
    {
     "name": "stdout",
     "output_type": "stream",
     "text": [
      "[ 0.06754704  0.07257759  0.0819871   0.0721082   0.06914628  0.07889006\n",
      "  0.0727412   0.10321531  0.0695184   0.04261572  0.07523856  0.06217789\n",
      "  0.07268172  0.05955491]\n"
     ]
    }
   ],
   "source": [
    "model3.fit(xtrainfin, ytrainfin)\n",
    "print(model3.feature_importances_)"
   ]
  },
  {
   "cell_type": "markdown",
   "metadata": {},
   "source": [
    "### selected the following features and train and tested data\n",
    "totalGoalsScored,\n",
    "totalGoalsAllowed, \n",
    "totalYellowCards, \n",
    "totalRedCards,  \n",
    "totalCorners, \n",
    "spg,  \n",
    "sag, \n",
    "savesPercentage,\n",
    "### Accuracy was lower therefore decided to stick with all"
   ]
  },
  {
   "cell_type": "code",
   "execution_count": 70,
   "metadata": {},
   "outputs": [],
   "source": [
    "xTrain, X_test, yTrain, y_test = train_test_split(xtrainfin, ytrainfin)"
   ]
  },
  {
   "cell_type": "markdown",
   "metadata": {},
   "source": [
    "## Leave one-out cross validation used \n",
    "#### Said to be the best for predicting sport results"
   ]
  },
  {
   "cell_type": "code",
   "execution_count": 71,
   "metadata": {},
   "outputs": [
    {
     "data": {
      "text/plain": [
       "(570, 14)"
      ]
     },
     "execution_count": 71,
     "metadata": {},
     "output_type": "execute_result"
    }
   ],
   "source": [
    "xTrain.shape"
   ]
  },
  {
   "cell_type": "code",
   "execution_count": 72,
   "metadata": {},
   "outputs": [
    {
     "data": {
      "text/plain": [
       "(190, 14)"
      ]
     },
     "execution_count": 72,
     "metadata": {},
     "output_type": "execute_result"
    }
   ],
   "source": [
    "X_test.shape"
   ]
  },
  {
   "cell_type": "code",
   "execution_count": 73,
   "metadata": {},
   "outputs": [
    {
     "data": {
      "text/plain": [
       "(190,)"
      ]
     },
     "execution_count": 73,
     "metadata": {},
     "output_type": "execute_result"
    }
   ],
   "source": [
    "y_test.shape"
   ]
  },
  {
   "cell_type": "code",
   "execution_count": 74,
   "metadata": {},
   "outputs": [
    {
     "data": {
      "text/plain": [
       "(570,)"
      ]
     },
     "execution_count": 74,
     "metadata": {},
     "output_type": "execute_result"
    }
   ],
   "source": [
    "yTrain.shape"
   ]
  },
  {
   "cell_type": "code",
   "execution_count": 75,
   "metadata": {
    "collapsed": true
   },
   "outputs": [],
   "source": [
    "xTraindf = pd.DataFrame(xTrain, columns=['totalGoalsScored', 'totalGoalsAllowed', 'totalYellowCards', 'totalRedCards', 'totalFouls', 'totalCorners', 'spg', 'sag', 'gamesWonPercentage', 'goalieSaves', 'savesPercentage', 'savesRatio', 'scoringPercentage', 'scoringRatio'])                                         "
   ]
  },
  {
   "cell_type": "markdown",
   "metadata": {},
   "source": [
    "## Predicting Result usng Bayesian Linear Regression"
   ]
  },
  {
   "cell_type": "code",
   "execution_count": 80,
   "metadata": {},
   "outputs": [],
   "source": [
    "xTraindf.columns\n",
    "bylr = xTraindf.copy()\n",
    "bylr.shape\n",
    "len(yTrain)\n",
    "bylr['yTrain'] = yTrain"
   ]
  },
  {
   "cell_type": "code",
   "execution_count": 82,
   "metadata": {},
   "outputs": [
    {
     "ename": "ModuleNotFoundError",
     "evalue": "No module named 'pymc3'",
     "output_type": "error",
     "traceback": [
      "\u001b[0;31m---------------------------------------------------------------------------\u001b[0m",
      "\u001b[0;31mModuleNotFoundError\u001b[0m                       Traceback (most recent call last)",
      "\u001b[0;32m<ipython-input-82-1ba037fe3740>\u001b[0m in \u001b[0;36m<module>\u001b[0;34m()\u001b[0m\n\u001b[0;32m----> 1\u001b[0;31m \u001b[0;32mimport\u001b[0m \u001b[0mpymc3\u001b[0m \u001b[0;32mas\u001b[0m \u001b[0mpm\u001b[0m\u001b[0;34m\u001b[0m\u001b[0m\n\u001b[0m\u001b[1;32m      2\u001b[0m \u001b[0;32mwith\u001b[0m \u001b[0mpm\u001b[0m\u001b[0;34m.\u001b[0m\u001b[0mModel\u001b[0m\u001b[0;34m(\u001b[0m\u001b[0;34m)\u001b[0m \u001b[0;32mas\u001b[0m \u001b[0mreg\u001b[0m\u001b[0;34m:\u001b[0m\u001b[0;34m\u001b[0m\u001b[0m\n\u001b[1;32m      3\u001b[0m     \u001b[0mpm\u001b[0m\u001b[0;34m.\u001b[0m\u001b[0mglm\u001b[0m\u001b[0;34m.\u001b[0m\u001b[0mGLM\u001b[0m\u001b[0;34m.\u001b[0m\u001b[0mfrom_formula\u001b[0m\u001b[0;34m(\u001b[0m\u001b[0;34m'yTrain ~ totalGoalsScored + totalGoalsAllowed + totalYellowCards + totalRedCards + totalFouls + totalCorners + spg + sag + gamesWonPercentage + goalieSaves + savesPercentage + savesRatio + scoringPercentage + scoringRatio'\u001b[0m\u001b[0;34m,\u001b[0m \u001b[0mbylr\u001b[0m\u001b[0;34m)\u001b[0m\u001b[0;34m\u001b[0m\u001b[0m\n\u001b[1;32m      4\u001b[0m     \u001b[0mtrace\u001b[0m \u001b[0;34m=\u001b[0m \u001b[0mpm\u001b[0m\u001b[0;34m.\u001b[0m\u001b[0msample\u001b[0m\u001b[0;34m(\u001b[0m\u001b[0;36m1000\u001b[0m\u001b[0;34m,\u001b[0m \u001b[0mcores\u001b[0m\u001b[0;34m=\u001b[0m\u001b[0;36m2\u001b[0m\u001b[0;34m,\u001b[0m \u001b[0mtune\u001b[0m \u001b[0;34m=\u001b[0m \u001b[0;36m1000\u001b[0m\u001b[0;34m)\u001b[0m\u001b[0;34m\u001b[0m\u001b[0m\n",
      "\u001b[0;31mModuleNotFoundError\u001b[0m: No module named 'pymc3'"
     ]
    }
   ],
   "source": [
    "import pymc3 as pm\n",
    "with pm.Model() as reg:\n",
    "    pm.glm.GLM.from_formula('yTrain ~ totalGoalsScored + totalGoalsAllowed + totalYellowCards + totalRedCards + totalFouls + totalCorners + spg + sag + gamesWonPercentage + goalieSaves + savesPercentage + savesRatio + scoringPercentage + scoringRatio', bylr)\n",
    "    trace = pm.sample(1000, cores=2, tune = 1000)"
   ]
  },
  {
   "cell_type": "code",
   "execution_count": 83,
   "metadata": {},
   "outputs": [
    {
     "ename": "NameError",
     "evalue": "name 'pm' is not defined",
     "output_type": "error",
     "traceback": [
      "\u001b[0;31m---------------------------------------------------------------------------\u001b[0m",
      "\u001b[0;31mNameError\u001b[0m                                 Traceback (most recent call last)",
      "\u001b[0;32m<ipython-input-83-dc52240121b7>\u001b[0m in \u001b[0;36m<module>\u001b[0;34m()\u001b[0m\n\u001b[0;32m----> 1\u001b[0;31m \u001b[0mpm\u001b[0m\u001b[0;34m.\u001b[0m\u001b[0mtraceplot\u001b[0m\u001b[0;34m(\u001b[0m\u001b[0mtrace\u001b[0m\u001b[0;34m)\u001b[0m\u001b[0;34m\u001b[0m\u001b[0m\n\u001b[0m",
      "\u001b[0;31mNameError\u001b[0m: name 'pm' is not defined"
     ]
    }
   ],
   "source": [
    "pm.traceplot(trace)"
   ]
  },
  {
   "cell_type": "code",
   "execution_count": 84,
   "metadata": {},
   "outputs": [
    {
     "ename": "NameError",
     "evalue": "name 'trace' is not defined",
     "output_type": "error",
     "traceback": [
      "\u001b[0;31m---------------------------------------------------------------------------\u001b[0m",
      "\u001b[0;31mNameError\u001b[0m                                 Traceback (most recent call last)",
      "\u001b[0;32m<ipython-input-84-6d9dfa994d3e>\u001b[0m in \u001b[0;36m<module>\u001b[0;34m()\u001b[0m\n\u001b[0;32m----> 1\u001b[0;31m \u001b[0mchain\u001b[0m \u001b[0;34m=\u001b[0m \u001b[0mtrace\u001b[0m\u001b[0;34m[\u001b[0m\u001b[0;36m100\u001b[0m\u001b[0;34m:\u001b[0m\u001b[0;34m]\u001b[0m\u001b[0;34m\u001b[0m\u001b[0m\n\u001b[0m\u001b[1;32m      2\u001b[0m \u001b[0mpm\u001b[0m\u001b[0;34m.\u001b[0m\u001b[0mtraceplot\u001b[0m\u001b[0;34m(\u001b[0m\u001b[0mchain\u001b[0m\u001b[0;34m)\u001b[0m\u001b[0;34m;\u001b[0m\u001b[0;34m\u001b[0m\u001b[0m\n",
      "\u001b[0;31mNameError\u001b[0m: name 'trace' is not defined"
     ]
    }
   ],
   "source": [
    "chain = trace[100:]\n",
    "pm.traceplot(chain);"
   ]
  },
  {
   "cell_type": "code",
   "execution_count": 85,
   "metadata": {},
   "outputs": [
    {
     "ename": "NameError",
     "evalue": "name 'pm' is not defined",
     "output_type": "error",
     "traceback": [
      "\u001b[0;31m---------------------------------------------------------------------------\u001b[0m",
      "\u001b[0;31mNameError\u001b[0m                                 Traceback (most recent call last)",
      "\u001b[0;32m<ipython-input-85-d4fe83915d9d>\u001b[0m in \u001b[0;36m<module>\u001b[0;34m()\u001b[0m\n\u001b[0;32m----> 1\u001b[0;31m \u001b[0mppc\u001b[0m \u001b[0;34m=\u001b[0m \u001b[0mpm\u001b[0m\u001b[0;34m.\u001b[0m\u001b[0msample_ppc\u001b[0m\u001b[0;34m(\u001b[0m\u001b[0mtrace\u001b[0m\u001b[0;34m,\u001b[0m \u001b[0mmodel\u001b[0m\u001b[0;34m=\u001b[0m\u001b[0mreg\u001b[0m\u001b[0;34m,\u001b[0m \u001b[0msamples\u001b[0m\u001b[0;34m=\u001b[0m\u001b[0;36m1000\u001b[0m\u001b[0;34m)\u001b[0m\u001b[0;34m\u001b[0m\u001b[0m\n\u001b[0m",
      "\u001b[0;31mNameError\u001b[0m: name 'pm' is not defined"
     ]
    }
   ],
   "source": [
    "ppc = pm.sample_ppc(trace, model=reg, samples=1000)"
   ]
  },
  {
   "cell_type": "code",
   "execution_count": null,
   "metadata": {},
   "outputs": [],
   "source": [
    "pm.plot_posterior(trace)"
   ]
  },
  {
   "cell_type": "code",
   "execution_count": null,
   "metadata": {},
   "outputs": [],
   "source": [
    "model_formula = 'Featuressum = '\n",
    "for variable in trace.varnames:\n",
    "    model_formula += ' %0.2f * %s +' % (np.mean(trace[variable]), variable)\n",
    "\n",
    "' '.join(model_formula.split(' ')[:-1])"
   ]
  },
  {
   "cell_type": "code",
   "execution_count": null,
   "metadata": {},
   "outputs": [],
   "source": [
    "var_dict = {}\n",
    "for variable in trace.varnames:\n",
    "    var_dict[variable] = trace[variable]\n",
    "var_weights = pd.DataFrame(var_dict)\n",
    "var_means = var_weights.mean(axis=0)\n",
    "var_means"
   ]
  },
  {
   "cell_type": "code",
   "execution_count": null,
   "metadata": {
    "collapsed": true
   },
   "outputs": [],
   "source": [
    "X_testt = pd.DataFrame(X_test, columns=['totalGoalsScored', 'totalGoalsAllowed', 'totalYellowCards', 'totalRedCards', 'totalFouls', 'totalCorners', 'spg', 'sag', 'gamesWonPercentage', 'goalieSaves', 'savesPercentage', 'savesRatio', 'scoringPercentage', 'scoringRatio'])                                   "
   ]
  },
  {
   "cell_type": "code",
   "execution_count": null,
   "metadata": {
    "collapsed": true
   },
   "outputs": [],
   "source": [
    "X_testt['Intercept'] = 1"
   ]
  },
  {
   "cell_type": "code",
   "execution_count": null,
   "metadata": {},
   "outputs": [],
   "source": [
    "X_testt.shape"
   ]
  },
  {
   "cell_type": "code",
   "execution_count": null,
   "metadata": {
    "collapsed": true
   },
   "outputs": [],
   "source": [
    "names = X_testt.columns[1:]\n",
    "X_testt = X_testt.loc[:, names]\n",
    "var_means = var_means[names]"
   ]
  },
  {
   "cell_type": "code",
   "execution_count": null,
   "metadata": {},
   "outputs": [],
   "source": [
    "var_means"
   ]
  },
  {
   "cell_type": "code",
   "execution_count": null,
   "metadata": {},
   "outputs": [],
   "source": [
    "ppc = pm.sample_ppc(trace, model=reg, samples=1000)"
   ]
  },
  {
   "cell_type": "code",
   "execution_count": null,
   "metadata": {},
   "outputs": [],
   "source": [
    "len(trace)"
   ]
  },
  {
   "cell_type": "code",
   "execution_count": null,
   "metadata": {},
   "outputs": [],
   "source": [
    "ppc"
   ]
  },
  {
   "cell_type": "code",
   "execution_count": null,
   "metadata": {},
   "outputs": [],
   "source": [
    "result = []\n",
    "for i in ppc['y']:\n",
    "    result.append(i.mean())\n",
    "# ppc['y'][0].mean()\n",
    "BLavgpredict = sum(result)/len(result)\n",
    "print BLavgpredict"
   ]
  },
  {
   "cell_type": "markdown",
   "metadata": {},
   "source": [
    "# Result Using Standard Machine Learning Models"
   ]
  },
  {
   "cell_type": "code",
   "execution_count": null,
   "metadata": {
    "collapsed": true
   },
   "outputs": [],
   "source": [
    "def evaluate(xTrain, X_test, yTrain, y_test):\n",
    "    # Names of models\n",
    "    model_name_list = ['Linear Regression', 'ElasticNet Regression',\n",
    "                       'Extra Trees', 'SVM',\n",
    "                       'Gradient Boosted', 'Baseline', \"AdaBoostRegressor\"]\n",
    "#     X_train = X_train.drop(columns='Grade')\n",
    "#     X_test = X_test.drop(columns='Grade')\n",
    "    \n",
    "    # Instantiate the models\n",
    "    model1 = LinearRegression()\n",
    "    model2 = ElasticNet(alpha=1.0, l1_ratio=0.5)\n",
    "    model3 = AdaBoostRegressor()\n",
    "    model4 = ExtraTreesRegressor(n_estimators=50)\n",
    "    model5 = SVR(kernel='rbf', degree=3, C=1.0, gamma='auto')\n",
    "    model6 = GradientBoostingRegressor(n_estimators=20)\n",
    "#     'Random Forest',\n",
    "# AB = AdaBoostRegressor()\n",
    "# AB.fit(xTrain, yTrain)\n",
    "# ABpredict = AB.predict(X_test)\n",
    "# ABavgpredict = sum(ABpredict)/len(ABpredict)\n",
    "# print ABavgpredict\n",
    "    # Dataframe for results\n",
    "    results = pd.DataFrame(columns=['mae', 'rmse'], index = model_name_list)\n",
    "    \n",
    "    # Train and predict with each model\n",
    "    for i, model in enumerate([model1, model2, model3, model4, model5, model6]):\n",
    "        model.fit(xTrain, yTrain)\n",
    "        predictions = model.predict(X_test)\n",
    "        \n",
    "        # Metrics\n",
    "        mae = np.mean(abs(predictions - y_test))\n",
    "        rmse = np.sqrt(np.mean((predictions - y_test) ** 2))\n",
    "        \n",
    "        # Insert results into the dataframe\n",
    "        model_name = model_name_list[i]\n",
    "        results.ix[model_name, :] = [mae, rmse]\n",
    "    \n",
    "    # Median Value Baseline Metrics\n",
    "    baseline = np.median(yTrain)\n",
    "    baseline_mae = np.mean(abs(baseline - y_test))\n",
    "    baseline_rmse = np.sqrt(np.mean((baseline - y_test) ** 2))\n",
    "    \n",
    "    results.ix['Baseline', :] = [baseline_mae, baseline_rmse]\n",
    "    \n",
    "    return results"
   ]
  },
  {
   "cell_type": "code",
   "execution_count": null,
   "metadata": {},
   "outputs": [],
   "source": [
    "results = evaluate(xTrain, X_test, yTrain, y_test)"
   ]
  },
  {
   "cell_type": "code",
   "execution_count": null,
   "metadata": {
    "collapsed": true
   },
   "outputs": [],
   "source": [
    "# Evalute the MCMC trace and compare to ml models\n",
    "def evaluate_trace(trace, X_train, X_test, y_train, y_test, model_results):\n",
    "    \n",
    "    # Dictionary of all sampled values for each parameter\n",
    "    var_dict = {}\n",
    "    for variable in trace.varnames:\n",
    "        var_dict[variable] = trace[variable]\n",
    "        \n",
    "    # Results into a dataframe\n",
    "    var_weights = pd.DataFrame(var_dict)\n",
    "    \n",
    "    # Means for all the weights\n",
    "    var_means = var_weights.mean(axis=0)\n",
    "    \n",
    "    # Create an intercept column\n",
    "    X_test['Intercept'] = 1\n",
    "    \n",
    "    # Align names of the test observations and means\n",
    "    names = X_test.columns[1:]\n",
    "    X_test = X_test.ix[:, names]\n",
    "    var_means = var_means[names]\n",
    "    \n",
    "    # Calculate estimate for each test observation using the average weights\n",
    "    results = pd.DataFrame(index = X_test.index, columns = ['estimate'])\n",
    "\n",
    "    for row in X_test.iterrows():\n",
    "        results.ix[row[0], 'estimate'] = np.dot(np.array(var_means), np.array(row[1]))\n",
    "        \n",
    "    # Metrics \n",
    "    actual = np.array(y_test)\n",
    "    errors = results['estimate'] - actual\n",
    "    mae = np.mean(abs(errors))\n",
    "    rmse = np.sqrt(np.mean(errors ** 2))\n",
    "    \n",
    "    print('Model  MAE: {:.4f}\\nModel RMSE: {:.4f}'.format(mae, rmse))\n",
    "    \n",
    "    # Add the results to the comparison dataframe\n",
    "    model_results.loc['Bayesian LR', :] = [mae, rmse]\n",
    "    \n",
    "    plt.figure(figsize=(12, 8))\n",
    "    \n",
    "    # Plot median absolute percentage error of all models\n",
    "    ax = plt.subplot(1, 2, 1)\n",
    "    model_results.sort_values('mae', ascending = True).plot.bar(y = 'mae', color = 'r', ax = ax)\n",
    "    plt.title('Model Mean Absolute Error Comparison'); plt.ylabel('MAE'); \n",
    "    plt.tight_layout()\n",
    "    \n",
    "    # Plot root mean squared error of all models\n",
    "    ax = plt.subplot(1, 2, 2)\n",
    "    model_results.sort_values('rmse', ascending = True).plot.bar(y = 'rmse', color = 'b', ax = ax)\n",
    "    plt.title('Model RMSE Comparison'); plt.ylabel('RMSE')\n",
    "    \n",
    "    return model_results"
   ]
  },
  {
   "cell_type": "code",
   "execution_count": null,
   "metadata": {},
   "outputs": [],
   "source": [
    "all_model_results = evaluate_trace(trace, xTrain, X_testt, yTrain, y_test, results)"
   ]
  },
  {
   "cell_type": "code",
   "execution_count": null,
   "metadata": {},
   "outputs": [],
   "source": [
    "results"
   ]
  },
  {
   "cell_type": "code",
   "execution_count": null,
   "metadata": {},
   "outputs": [],
   "source": [
    "from sklearn.ensemble import AdaBoostRegressor\n",
    "AB = AdaBoostRegressor()\n",
    "AB.fit(xTrain, yTrain)\n",
    "ABpredict = AB.predict(X_test)\n",
    "ABavgpredict = sum(ABpredict)/len(ABpredict)\n",
    "print ABavgpredict"
   ]
  },
  {
   "cell_type": "code",
   "execution_count": null,
   "metadata": {},
   "outputs": [],
   "source": [
    "from sklearn.tree import DecisionTreeRegressor\n",
    "DT = DecisionTreeRegressor()\n",
    "DT.fit(xTrain, yTrain)\n",
    "DTpredict = DT.predict(X_test)\n",
    "DTavgpredict = sum(DTpredict)/len(DTpredict)\n",
    "print DTavgpredict"
   ]
  },
  {
   "cell_type": "code",
   "execution_count": null,
   "metadata": {},
   "outputs": [],
   "source": [
    "rge = Ridge(alpha=0.05, normalize=True)\n",
    "rge.fit(xTrain, yTrain)\n",
    "rgepredict = rge.predict(X_test)\n",
    "rgeavgpredict = sum(rgepredict)/len(rgepredict)\n",
    "print rgeavgpredict"
   ]
  },
  {
   "cell_type": "code",
   "execution_count": null,
   "metadata": {},
   "outputs": [],
   "source": [
    "ENreg = ElasticNet(alpha=1, l1_ratio=0.5, normalize=False)\n",
    "ENreg.fit(xTrain, yTrain)\n",
    "ENregpredict = ENreg.predict(X_test)\n",
    "ENregavgpredict = sum(ENregpredict)/len(ENregpredict)\n",
    "print ENregavgpredict"
   ]
  },
  {
   "cell_type": "markdown",
   "metadata": {},
   "source": [
    "## Game Prediction"
   ]
  },
  {
   "cell_type": "code",
   "execution_count": null,
   "metadata": {
    "collapsed": true
   },
   "outputs": [],
   "source": [
    "epl1718 = \"./17:18 schedule.csv\"\n",
    "df1718 = pd.read_csv(epl1718)\n",
    "test = df1718\n",
    "test[\"Game_ID\"].tail()\n",
    "test = test.drop(test.index[-1])\n",
    "test[\"Game_ID\"] = test[\"Game_ID\"].astype(int)\n",
    "test.head()"
   ]
  },
  {
   "cell_type": "code",
   "execution_count": null,
   "metadata": {
    "collapsed": true
   },
   "outputs": [],
   "source": [
    "# from sklearn.model_selection import LeaveOneOut \n",
    "# loo = LeaveOneOut()\n",
    "# loo.get_n_splits(xtrainfin)\n",
    "def createGamePred(team1_vector, team2_vector, xTrain, yTrain):\n",
    "    xTrain, X_test, yTrain, y_test = train_test_split(xtrainfin, ytrainfin)\n",
    "    EN = ElasticNet(alpha=1.0, l1_ratio=0.5)\n",
    "    ENpred = EN.fit(xTrain2, yTrain2)\n",
    "    diff = np.array([a - b for a, b in zip(team1_vector, team2_vector)])\n",
    "    predictions = EN.predict(diff.reshape(1,-1))\n",
    "    return predictions"
   ]
  },
  {
   "cell_type": "code",
   "execution_count": null,
   "metadata": {
    "collapsed": true
   },
   "outputs": [],
   "source": [
    "def createGamePred(team1_vector, team2_vector, xTrain, yTrain):\n",
    "    xTrain, X_test, yTrain, y_test = train_test_split(xtrainfin, ytrainfin)\n",
    "    AB = AdaBoostRegressor()\n",
    "    AB.fit(xTrain, yTrain)\n",
    "    diff = np.array([a - b for a, b in zip(team1_vector, team2_vector)])\n",
    "    predictions = AB.predict(diff.reshape(1,-1))\n",
    "    return predictions"
   ]
  },
  {
   "cell_type": "code",
   "execution_count": null,
   "metadata": {
    "collapsed": true
   },
   "outputs": [],
   "source": [
    "def formulatePredictions():\n",
    "    probs = [[0 for x in range(2)] for x in range(len(test.index))]\n",
    "    for index, row in test.iterrows():\n",
    "        game_ID = row[\"Game_ID\"]\n",
    "        team1_Name = row[\"HomeTeam\"]\n",
    "        team2_Name = row[\"AwayTeam\"]\n",
    "        team1_vector = TeamData(team1_Name)\n",
    "        team2_vector = TeamData(team2_Name)\n",
    "        prediction = createGamePred(team1_vector, team2_vector, xTrain, yTrain)\n",
    "        probs[index][0] = game_ID\n",
    "        probs[index][1] = prediction\n",
    "    probs = pd.np.array(probs)\n",
    "    return probs"
   ]
  },
  {
   "cell_type": "code",
   "execution_count": null,
   "metadata": {
    "collapsed": true
   },
   "outputs": [],
   "source": [
    "# prediction = createGamePred(team1_vector, team2_vector, xTrain1, yTrain1)\n",
    "# prediction"
   ]
  },
  {
   "cell_type": "code",
   "execution_count": null,
   "metadata": {
    "collapsed": true
   },
   "outputs": [],
   "source": [
    "predictdf=pd.DataFrame(formulatePredictions(), columns=[[\"Game_ID\",\"Prediction\"]])"
   ]
  },
  {
   "cell_type": "code",
   "execution_count": null,
   "metadata": {
    "collapsed": true
   },
   "outputs": [],
   "source": [
    "predictdf[\"Game_ID\"] = predictdf[\"Game_ID\"].astype(int)"
   ]
  },
  {
   "cell_type": "code",
   "execution_count": null,
   "metadata": {},
   "outputs": [],
   "source": [
    "test.columns"
   ]
  },
  {
   "cell_type": "code",
   "execution_count": null,
   "metadata": {},
   "outputs": [],
   "source": [
    "predictdf.columns"
   ]
  },
  {
   "cell_type": "code",
   "execution_count": null,
   "metadata": {},
   "outputs": [],
   "source": [
    "predictdf.head()"
   ]
  },
  {
   "cell_type": "code",
   "execution_count": null,
   "metadata": {
    "collapsed": true
   },
   "outputs": [],
   "source": [
    "pf1 = predictdf.drop(['Game_ID'], axis = 1)"
   ]
  },
  {
   "cell_type": "code",
   "execution_count": null,
   "metadata": {},
   "outputs": [],
   "source": [
    "pf1.head()"
   ]
  },
  {
   "cell_type": "code",
   "execution_count": null,
   "metadata": {},
   "outputs": [],
   "source": [
    "test.head()"
   ]
  },
  {
   "cell_type": "code",
   "execution_count": null,
   "metadata": {},
   "outputs": [],
   "source": [
    "predictable = pd.concat([test, pf1], axis=1)\n",
    "predictable.columns"
   ]
  },
  {
   "cell_type": "code",
   "execution_count": null,
   "metadata": {},
   "outputs": [],
   "source": [
    "ptdf = predictable.drop(predictable.index[-1])\n",
    "ptdf"
   ]
  },
  {
   "cell_type": "code",
   "execution_count": null,
   "metadata": {},
   "outputs": [],
   "source": [
    "ptdf2 = ptdf[ptdf.HomeTeam.str.contains(\"Brighton\") == False]\n",
    "ptdf3 = ptdf2[ptdf2.AwayTeam.str.contains(\"Brighton\") == False]\n",
    "ptdf4 = ptdf3[ptdf.HomeTeam.str.contains(\"Huddersfield\") == False]\n",
    "ptdf5 = ptdf4[ptdf2.AwayTeam.str.contains(\"Huddersfield\") == False]\n",
    "ptdf7 = ptdf6[ptdf6.HomeTeam.str.contains(\"Newcastle\") == False]\n",
    "ptdf8 = ptdf7[ptdf7.AwayTeam.str.contains(\"Newcastle\") == False]"
   ]
  },
  {
   "cell_type": "code",
   "execution_count": null,
   "metadata": {
    "collapsed": true
   },
   "outputs": [],
   "source": [
    "ptdf8.columns.values[4] = \"HT win Predict\"\n",
    "ptdf8"
   ]
  },
  {
   "cell_type": "code",
   "execution_count": null,
   "metadata": {
    "collapsed": true
   },
   "outputs": [],
   "source": [
    "dfA = {1: ['11/8/17', 'Arsenal', 'Leicester', 1, 0.5014359082073364],\n",
    " 3: ['12/8/17', 'Chelsea', 'Burnley', 3, 0.5028806289553723],\n",
    " 5: ['12/8/17', 'Everton', 'Stoke', 5, 0.49654676380750956],\n",
    " 6: ['12/8/17', 'Southampton', 'Swansea', 6, 0.5012146211844342],\n",
    " 7: ['12/8/17', 'Watford', 'Liverpool', 7, 0.49370852926186964],\n",
    " 8: ['12/8/17', 'West Brom', 'Bournemouth', 8, 0.5082627000510842],\n",
    " 9: ['13/8/17', 'Man United', 'West Ham', 9, 0.49997421596078157],\n",
    " 10: ['13/8/17', 'Newcastle', 'Tottenham', 10, 0.5379421799646498],\n",
    " 11: ['19/8/17', 'Bournemouth', 'Watford', 11, 0.5048566100521162],\n",
    " 12: ['19/8/17', 'Burnley', 'West Brom', 12, 0.49339188064514644],\n",
    " 14: ['19/8/17', 'Liverpool', 'Crystal Palace', 14, 0.49819945510568764],\n",
    " 15: ['19/8/17', 'Southampton', 'West Ham', 15, 0.49722755619396736],\n",
    " 16: ['19/8/17', 'Stoke', 'Arsenal', 16, 0.4991369759581655],\n",
    " 17: ['19/8/17', 'Swansea', 'Man United', 17, 0.49554188941258226],\n",
    " 19: ['20/8/17', 'Tottenham', 'Chelsea', 19, 0.49917849036847],\n",
    " 20: ['21/8/17', 'Man City', 'Everton', 20, 0.5075285784984221],\n",
    " 21: ['26/8/17', 'Bournemouth', 'Man City', 21, 0.49189291151875447],\n",
    " 22: ['26/8/17', 'Crystal Palace', 'Swansea', 22, 0.5018157678697338],\n",
    " 24: ['26/8/17', 'Man United', 'Leicester', 24, 0.5021704714701138],\n",
    " 25: ['26/8/17', 'Newcastle', 'West Ham', 25, 0.5382364958283407],\n",
    " 27: ['27/8/17', 'Chelsea', 'Everton', 27, 0.5049503589411183],\n",
    " 28: ['27/8/17', 'Liverpool', 'Arsenal', 28, 0.49678850528695045],\n",
    " 29: ['27/8/17', 'Tottenham', 'Burnley', 29, 0.502307534141927],\n",
    " 30: ['27/8/17', 'West Brom', 'Stoke', 30, 0.5049761983300244],\n",
    " 31: ['9/9/17', 'Arsenal', 'Bournemouth', 31, 0.5036526961267248],\n",
    " 33: ['9/9/17', 'Everton', 'Tottenham', 33, 0.49512590623615765],\n",
    " 34: ['9/9/17', 'Leicester', 'Chelsea', 34, 0.4966879189954468],\n",
    " 35: ['9/9/17', 'Man City', 'Liverpool', 35, 0.5066722277952315],\n",
    " 36: ['9/9/17', 'Southampton', 'Watford', 36, 0.5067456244928891],\n",
    " 37: ['9/9/17', 'Stoke', 'Man United', 37, 0.4984024126953881],\n",
    " 38: ['10/9/17', 'Burnley', 'Crystal Palace', 38, 0.49941283438824285],\n",
    " 39: ['10/9/17', 'Swansea', 'Newcastle', 39, 0.4572796095450231],\n",
    " 42: ['16/9/17', 'Crystal Palace', 'Southampton', 42, 0.500352731867215],\n",
    " 44: ['16/9/17', 'Liverpool', 'Burnley', 44, 0.49853820589936004],\n",
    " 45: ['16/9/17', 'Newcastle', 'Stoke', 45, 0.5393630375360017],\n",
    " 46: ['16/9/17', 'Tottenham', 'Swansea', 46, 0.5040329660360731],\n",
    " 47: ['16/9/17', 'Watford', 'Man City', 47, 0.48678788664855355],\n",
    " 48: ['16/9/17', 'West Brom', 'West Ham', 48, 0.5038496566223635],\n",
    " 49: ['17/9/17', 'Chelsea', 'Arsenal', 49, 0.5011309283429627],\n",
    " 50: ['17/9/17', 'Man United', 'Everton', 50, 0.5043055790428483],\n",
    " 52: ['23/9/17', 'Everton', 'Bournemouth', 52, 0.49983326552856927],\n",
    " 53: ['23/9/17', 'Leicester', 'Liverpool', 53, 0.501030342051459],\n",
    " 54: ['23/9/17', 'Man City', 'Crystal Palace', 54, 0.5051200977190037],\n",
    " 55: ['23/9/17', 'Southampton', 'Man United', 55, 0.4970049254151011],\n",
    " 56: ['23/9/17', 'Stoke', 'Chelsea', 56, 0.4977576327971181],\n",
    " 57: ['23/9/17', 'Swansea', 'Watford', 57, 0.5052825884903702],\n",
    " 58: ['23/9/17', 'West Ham', 'Tottenham', 58, 0.4994572693182244],\n",
    " 60: ['25/9/17', 'Arsenal', 'West Brom', 60, 0.49514158125755603],\n",
    " 61: ['30/9/17', 'Bournemouth', 'Leicester', 61, 0.4975347972625269],\n",
    " 62: ['30/9/17', 'Chelsea', 'Man City', 62, 0.49717336562461145],\n",
    " 64: ['30/9/17', 'Man United', 'Crystal Palace', 64, 0.5018970982634299],\n",
    " 65: ['30/9/17', 'Stoke', 'Southampton', 65, 0.5011490724622023],\n",
    " 66: ['30/9/17', 'West Brom', 'Watford', 66, 0.5133677249212851],\n",
    " 67: ['30/9/17', 'West Ham', 'Swansea', 67, 0.5037386501723821],\n",
    " 69: ['1/10/17', 'Everton', 'Burnley', 69, 0.4976818551961693],\n",
    " 70: ['1/10/17', 'Newcastle', 'Liverpool', 70, 0.5417115082072167],\n",
    " 71: ['14/10/17', 'Burnley', 'West Ham', 71, 0.4974899520855946],\n",
    " 72: ['14/10/17', 'Crystal Palace', 'Chelsea', 72, 0.49696129220213076],\n",
    " 73: ['14/10/17', 'Liverpool', 'Man United', 73, 0.4960539420241731],\n",
    " 74: ['14/10/17', 'Man City', 'Stoke', 74, 0.5043237571240164],\n",
    " 76: ['14/10/17', 'Tottenham', 'Bournemouth', 76, 0.5044589444743269],\n",
    " 77: ['14/10/17', 'Watford', 'Arsenal', 77, 0.49074544936690484],\n",
    " 79: ['15/10/17', 'Southampton', 'Newcastle', 79, 0.458742645547542],\n",
    " 80: ['16/10/17', 'Leicester', 'West Brom', 80, 0.4934572582321349],\n",
    " 82: ['21/10/17', 'Chelsea', 'Watford', 82, 0.5101370641579732],\n",
    " 84: ['21/10/17', 'Man City', 'Burnley', 84, 0.5054588485126762],\n",
    " 85: ['21/10/17', 'Newcastle', 'Crystal Palace', 85, 0.540159378130989],\n",
    " 86: ['21/10/17', 'Southampton', 'West Brom', 86, 0.49312948475351925],\n",
    " 87: ['21/10/17', 'Stoke', 'Bournemouth', 87, 0.503038086902975],\n",
    " 88: ['21/10/17', 'Swansea', 'Leicester', 88, 0.49796077570078084],\n",
    " 89: ['22/10/17', 'Everton', 'Arsenal', 89, 0.4959321545837597],\n",
    " 90: ['22/10/17', 'Tottenham', 'Liverpool', 90, 0.5035209134244822],\n",
    " 91: ['28/10/17', 'Arsenal', 'Swansea', 91, 0.5032267176884709],\n",
    " 92: ['28/10/17', 'Bournemouth', 'Chelsea', 92, 0.4944711310760584],\n",
    " 93: ['28/10/17', 'Crystal Palace', 'West Ham', 93, 0.497828702879267],\n",
    " 95: ['28/10/17', 'Man United', 'Tottenham', 95, 0.4996799000970907],\n",
    " 96: ['28/10/17', 'Watford', 'Stoke', 96, 0.4913600585906546],\n",
    " 97: ['28/10/17', 'West Brom', 'Man City', 97, 0.5004040263879234],\n",
    " 99: ['29/10/17', 'Leicester', 'Everton', 99, 0.5018866927546498],\n",
    " 100: ['30/10/17', 'Burnley', 'Newcastle', 100, 0.4590050414391692],\n",
    " 102: ['4/11/17', 'Newcastle', 'Bournemouth', 102, 0.5426495392570614],\n",
    " 103: ['4/11/17', 'Southampton', 'Burnley', 103, 0.4994891892902881],\n",
    " 104: ['4/11/17', 'Stoke', 'Leicester', 104, 0.5008212989835866],\n",
    " 106: ['4/11/17', 'West Ham', 'Liverpool', 106, 0.5032265975607914],\n",
    " 107: ['5/11/17', 'Chelsea', 'Man United', 107, 0.5003963650801853],\n",
    " 108: ['5/11/17', 'Everton', 'Watford', 108, 0.5049382903987703],\n",
    " 109: ['5/11/17', 'Man City', 'Arsenal', 109, 0.5037091479002666],\n",
    " 110: ['5/11/17', 'Tottenham', 'Crystal Palace', 110, 0.5019687833482546],\n",
    " 111: ['18/11/17', 'Arsenal', 'Tottenham', 111, 0.49894533683431325],\n",
    " 113: ['18/11/17', 'Burnley', 'Swansea', 113, 0.5014770170760614],\n",
    " 114: ['18/11/17', 'Crystal Palace', 'Everton', 114, 0.5021600659613338],\n",
    " 115: ['18/11/17', 'Leicester', 'Man City', 115, 0.4941096994381429],\n",
    " 116: ['18/11/17', 'Liverpool', 'Southampton', 116, 0.49880060179098723],\n",
    " 117: ['18/11/17', 'Man United', 'Newcastle', 117, 0.46148930531435617],\n",
    " 118: ['18/11/17', 'West Brom', 'Chelsea', 118, 0.5029822459452272],\n",
    " 119: ['19/11/17', 'Watford', 'West Ham', 119, 0.49023351688299366],\n",
    " 121: ['24/11/17', 'West Ham', 'Leicester', 121, 0.5019478406912476],\n",
    " 122: ['25/11/17', 'Crystal Palace', 'Stoke', 122, 0.49895524458692797],\n",
    " 123: ['25/11/17', 'Liverpool', 'Chelsea', 123, 0.4954091621259031],\n",
    " 125: ['25/11/17', 'Newcastle', 'Watford', 125, 0.5477545641272623],\n",
    " 126: ['25/11/17', 'Swansea', 'Bournemouth', 126, 0.5001775636201693],\n",
    " 127: ['25/11/17', 'Tottenham', 'West Brom', 127, 0.4959478296051581],\n",
    " 128: ['26/11/17', 'Burnley', 'Arsenal', 128, 0.4980018845695057],\n",
    " 130: ['26/11/17', 'Southampton', 'Everton', 130, 0.5015589192760341],\n",
    " 132: ['28/11/17', 'Leicester', 'Tottenham', 132, 0.4972610138088921],\n",
    " 133: ['28/11/17', 'Watford', 'Man United', 133, 0.4900108861041274],\n",
    " 134: ['28/11/17', 'West Brom', 'Newcastle', 134, 0.4653647459759381],\n",
    " 136: ['29/11/17', 'Bournemouth', 'Burnley', 136, 0.49760017484951535],\n",
    " 137: ['29/11/17', 'Chelsea', 'Swansea', 137, 0.5046060608495183],\n",
    " 138: ['29/11/17', 'Everton', 'West Ham', 138, 0.4954202220998486],\n",
    " 139: ['29/11/17', 'Man City', 'Southampton', 139, 0.5057212444043033],\n",
    " 140: ['29/11/17', 'Stoke', 'Liverpool', 140, 0.5021000558531303],\n",
    " 141: ['2/12/17', 'Arsenal', 'Man United', 141, 0.4990170219191379],\n",
    " 143: ['2/12/17', 'Chelsea', 'Newcastle', 143, 0.46213408521262617],\n",
    " 145: ['2/12/17', 'Leicester', 'Burnley', 145, 0.49981696276890375],\n",
    " 146: ['2/12/17', 'Stoke', 'Swansea', 146, 0.5026121084647212],\n",
    " 147: ['2/12/17', 'Watford', 'Tottenham', 147, 0.4899392010193027],\n",
    " 148: ['2/12/17', 'West Brom', 'Crystal Palace', 148, 0.5057725389250117],\n",
    " 149: ['3/12/17', 'Bournemouth', 'Southampton', 149, 0.49786257074114254],\n",
    " 150: ['3/12/17', 'Man City', 'West Ham', 150, 0.5031972154163554],\n",
    " 151: ['9/12/17', 'Burnley', 'Watford', 151, 0.5070080203845162],\n",
    " 152: ['9/12/17', 'Crystal Palace', 'Bournemouth', 152, 0.5022417463079877],\n",
    " 154: ['9/12/17', 'Newcastle', 'Leicester', 154, 0.540432751337673],\n",
    " 155: ['9/12/17', 'Swansea', 'West Brom', 155, 0.4916664487510004],\n",
    " 156: ['9/12/17', 'Tottenham', 'Stoke', 156, 0.5011724427532672],\n",
    " 157: ['9/12/17', 'West Ham', 'Chelsea', 157, 0.49888417450477907],\n",
    " 158: ['10/12/17', 'Liverpool', 'Everton', 158, 0.5006079358851061],\n",
    " 159: ['10/12/17', 'Man United', 'Man City', 159, 0.49652858572634145],\n",
    " 160: ['10/12/17', 'Southampton', 'Arsenal', 160, 0.49773948867787854],\n",
    " 161: ['12/12/17', 'Burnley', 'Stoke', 161, 0.49861649379325557],\n",
    " 162: ['12/12/17', 'Crystal Palace', 'Watford', 162, 0.5073467711781887],\n",
    " 164: ['13/12/17', 'Liverpool', 'West Brom', 164, 0.49217850136259117],\n",
    " 165: ['13/12/17', 'Man United', 'Bournemouth', 165, 0.5043872593895022],\n",
    " 166: ['13/12/17', 'Newcastle', 'Everton', 166, 0.5425678589104075],\n",
    " 167: ['13/12/17', 'Southampton', 'Leicester', 167, 0.4994238117032997],\n",
    " 168: ['13/12/17', 'Swansea', 'Man City', 168, 0.49231888995700845],\n",
    " 170: ['13/12/17', 'West Ham', 'Arsenal', 170, 0.5002635176658264],\n",
    " 171: ['16/12/17', 'Arsenal', 'Newcastle', 171, 0.46075474205157874],\n",
    " 173: ['16/12/17', 'Chelsea', 'Southampton', 173, 0.5031430248469995],\n",
    " 174: ['16/12/17', 'Leicester', 'Crystal Palace', 174, 0.4994782119752313],\n",
    " 175: ['16/12/17', 'Man City', 'Tottenham', 175, 0.5029028995526645],\n",
    " 176: ['16/12/17', 'Stoke', 'West Ham', 176, 0.49862504347425435],\n",
    " 178: ['17/12/17', 'Bournemouth', 'Liverpool', 178, 0.4988135541320706],\n",
    " 179: ['17/12/17', 'West Brom', 'Man United', 179, 0.5036270258434972],\n",
    " 180: ['18/12/17', 'Everton', 'Swansea', 180, 0.49940728709031534],\n",
    " 181: ['22/12/17', 'Arsenal', 'Liverpool', 181, 0.5027146650768801],\n",
    " 183: ['23/12/17', 'Burnley', 'Tottenham', 183, 0.49719563622190366],\n",
    " 184: ['23/12/17', 'Everton', 'Chelsea', 184, 0.49455281142271235],\n",
    " 185: ['23/12/17', 'Leicester', 'Man United', 185, 0.49733269889371673],\n",
    " 186: ['23/12/17', 'Man City', 'Bournemouth', 186, 0.5076102588450762],\n",
    " 188: ['23/12/17', 'Stoke', 'West Brom', 188, 0.4945269720338062],\n",
    " 189: ['23/12/17', 'Swansea', 'Crystal Palace', 189, 0.4976874024940968],\n",
    " 190: ['23/12/17', 'West Ham', 'Newcastle', 190, 0.4612666745354899],\n",
    " 191: ['26/12/17', 'Bournemouth', 'West Ham', 191, 0.4953385417531946],\n",
    " 194: ['26/12/17', 'Liverpool', 'Swansea', 194, 0.5002636377935061],\n",
    " 195: ['26/12/17', 'Man United', 'Burnley', 195, 0.5022358490571023],\n",
    " 196: ['26/12/17', 'Tottenham', 'Southampton', 196, 0.5025699300335542],\n",
    " 197: ['26/12/17', 'Watford', 'Leicester', 197, 0.49242977239232594],\n",
    " 198: ['26/12/17', 'West Brom', 'Everton', 198, 0.5081810197044302],\n",
    " 199: ['27/12/17', 'Newcastle', 'Man City', 199, 0.5347908655939005],\n",
    " 200: ['28/12/17', 'Crystal Palace', 'Arsenal', 200, 0.4983406353631782],\n",
    " 201: ['30/12/17', 'Bournemouth', 'Everton', 201, 0.49966990483526136],\n",
    " 202: ['30/12/17', 'Chelsea', 'Stoke', 202, 0.5017455375667126],\n",
    " 204: ['30/12/17', 'Liverpool', 'Leicester', 204, 0.4984728283123716],\n",
    " 205: ['30/12/17', 'Man United', 'Southampton', 205, 0.5024982449487295],\n",
    " 207: ['30/12/17', 'Watford', 'Swansea', 207, 0.4942205818734604],\n",
    " 208: ['31/12/17', 'Crystal Palace', 'Man City', 208, 0.4943830726448269],\n",
    " 209: ['31/12/17', 'West Brom', 'Arsenal', 209, 0.5043615891062746],\n",
    " 211: ['1/1/18', 'Burnley', 'Liverpool', 211, 0.5009649644644706],\n",
    " 212: ['1/1/18', 'Everton', 'Man United', 212, 0.4951975913209823],\n",
    " 214: ['1/1/18', 'Stoke', 'Newcastle', 214, 0.46014013282782895],\n",
    " 215: ['2/1/18', 'Man City', 'Watford', 215, 0.5127152837152771],\n",
    " 216: ['2/1/18', 'Southampton', 'Crystal Palace', 216, 0.49915043849661567],\n",
    " 217: ['2/1/18', 'Swansea', 'Tottenham', 217, 0.4954702043277576],\n",
    " 218: ['2/1/18', 'West Ham', 'West Brom', 218, 0.49565351374146716],\n",
    " 219: ['3/1/18', 'Arsenal', 'Chelsea', 219, 0.49837224202086794],\n",
    " 220: ['4/1/18', 'Tottenham', 'West Ham', 220, 0.5000459010456062],\n",
    " 221: ['13/1/18', 'Chelsea', 'Leicester', 221, 0.5028152513683839],\n",
    " 222: ['13/1/18', 'Crystal Palace', 'Burnley', 222, 0.5000903359755877],\n",
    " 224: ['13/1/18', 'Newcastle', 'Swansea', 224, 0.5422235608188075],\n",
    " 225: ['13/1/18', 'Tottenham', 'Everton', 225, 0.5043772641276729],\n",
    " 226: ['13/1/18', 'Watford', 'Southampton', 226, 0.4927575458709416],\n",
    " 228: ['14/1/18', 'Bournemouth', 'Arsenal', 228, 0.49585047423710576],\n",
    " 229: ['14/1/18', 'Liverpool', 'Man City', 229, 0.4928309425685992],\n",
    " 230: ['15/1/18', 'Man United', 'Stoke', 230, 0.5011007576684425],\n",
    " 231: ['20/1/18', 'Arsenal', 'Crystal Palace', 231, 0.5011625350006524],\n",
    " 233: ['20/1/18', 'Burnley', 'Man United', 233, 0.4972673213067283],\n",
    " 234: ['20/1/18', 'Everton', 'West Brom', 234, 0.49132215065940044],\n",
    " 235: ['20/1/18', 'Leicester', 'Watford', 235, 0.5070733979715046],\n",
    " 236: ['20/1/18', 'Man City', 'Newcastle', 236, 0.46471230476993003],\n",
    " 238: ['20/1/18', 'West Ham', 'Bournemouth', 238, 0.504164628610636],\n",
    " 239: ['21/1/18', 'Southampton', 'Tottenham', 239, 0.49693324033027647],\n",
    " 240: ['22/1/18', 'Swansea', 'Liverpool', 240, 0.49923953257032455],\n",
    " 242: ['30/1/18', 'Swansea', 'Arsenal', 242, 0.4962764526753597],\n",
    " 243: ['30/1/18', 'West Ham', 'Crystal Palace', 243, 0.5016744674845636],\n",
    " 244: ['31/1/18', 'Chelsea', 'Bournemouth', 244, 0.5050320392877723],\n",
    " 245: ['31/1/18', 'Everton', 'Leicester', 245, 0.4976164776091809],\n",
    " 246: ['31/1/18', 'Man City', 'West Brom', 246, 0.49909914397590727],\n",
    " 247: ['31/1/18', 'Newcastle', 'Burnley', 247, 0.5404981289246614],\n",
    " 249: ['31/1/18', 'Stoke', 'Watford', 249, 0.508143111773176],\n",
    " 250: ['31/1/18', 'Tottenham', 'Man United', 250, 0.49982327026673995],\n",
    " 251: ['3/2/18', 'Arsenal', 'Everton', 251, 0.5035710157800709],\n",
    " 252: ['3/2/18', 'Bournemouth', 'Stoke', 252, 0.4964650834608556],\n",
    " 254: ['3/2/18', 'Burnley', 'Man City', 254, 0.4940443218511545],\n",
    " 255: ['3/2/18', 'Leicester', 'Swansea', 255, 0.5015423946630498],\n",
    " 257: ['3/2/18', 'West Brom', 'Southampton', 257, 0.5063736856103114],\n",
    " 258: ['4/2/18', 'Crystal Palace', 'Newcastle', 258, 0.4593437922328416],\n",
    " 259: ['4/2/18', 'Liverpool', 'Tottenham', 259, 0.4959822569393484],\n",
    " 260: ['5/2/18', 'Watford', 'Chelsea', 260, 0.4893661062058574],\n",
    " 261: ['10/2/18', 'Everton', 'Crystal Palace', 261, 0.49734310440249685],\n",
    " 262: ['10/2/18', 'Man City', 'Leicester', 262, 0.5053934709256878],\n",
    " 264: ['10/2/18', 'Swansea', 'Burnley', 264, 0.4980261532877693],\n",
    " 265: ['10/2/18', 'Tottenham', 'Arsenal', 265, 0.5005578335295174],\n",
    " 266: ['10/2/18', 'West Ham', 'Watford', 266, 0.509269653480837],\n",
    " 268: ['11/2/18', 'Newcastle', 'Man United', 268, 0.5380138650494745],\n",
    " 269: ['11/2/18', 'Southampton', 'Liverpool', 269, 0.5007025685728433],\n",
    " 270: ['12/2/18', 'Chelsea', 'West Brom', 270, 0.4965209244186034],\n",
    " 271: ['24/2/18', 'Bournemouth', 'Newcastle', 271, 0.45685363110676924],\n",
    " 273: ['24/2/18', 'Burnley', 'Southampton', 273, 0.5000139810735426],\n",
    " 274: ['24/2/18', 'Leicester', 'Stoke', 274, 0.498681871380244],\n",
    " 275: ['24/2/18', 'Liverpool', 'West Ham', 275, 0.49627657280303933],\n",
    " 276: ['24/2/18', 'Watford', 'Everton', 276, 0.4945648799650604],\n",
    " 278: ['25/2/18', 'Crystal Palace', 'Tottenham', 278, 0.4975343870155761],\n",
    " 279: ['25/2/18', 'Man United', 'Chelsea', 279, 0.4991068052836453],\n",
    " 280: ['1/3/18', 'Arsenal', 'Man City', 280, 0.495794022463564],\n",
    " 281: ['3/3/18', 'Burnley', 'Everton', 281, 0.5018213151676613],\n",
    " 282: ['3/3/18', 'Leicester', 'Bournemouth', 282, 0.5019683731013037],\n",
    " 283: ['3/3/18', 'Liverpool', 'Newcastle', 283, 0.45779166215661393],\n",
    " 284: ['3/3/18', 'Southampton', 'Stoke', 284, 0.4983540979016284],\n",
    " 285: ['3/3/18', 'Swansea', 'West Ham', 285, 0.4957645201914485],\n",
    " 287: ['3/3/18', 'Watford', 'West Brom', 287, 0.4861354454425455],\n",
    " 289: ['4/3/18', 'Man City', 'Chelsea', 289, 0.5023298047392192],\n",
    " 290: ['5/3/18', 'Crystal Palace', 'Man United', 290, 0.49760607210040075],\n",
    " 291: ['10/3/18', 'Chelsea', 'Crystal Palace', 291, 0.5025418781616998],\n",
    " 294: ['10/3/18', 'Man United', 'Liverpool', 294, 0.5034492283396576],\n",
    " 295: ['10/3/18', 'Newcastle', 'Southampton', 295, 0.5407605248162887],\n",
    " 296: ['10/3/18', 'West Brom', 'Leicester', 296, 0.5060459121316957],\n",
    " 297: ['10/3/18', 'West Ham', 'Burnley', 297, 0.5020132182782361],\n",
    " 298: ['11/3/18', 'Arsenal', 'Watford', 298, 0.5087577209969258],\n",
    " 299: ['11/3/18', 'Bournemouth', 'Tottenham', 299, 0.4950442258895037],\n",
    " 300: ['12/3/18', 'Stoke', 'Man City', 300, 0.49517941323981424],\n",
    " 301: ['17/3/18', 'Bournemouth', 'West Brom', 301, 0.4912404703127465],\n",
    " 303: ['17/3/18', 'Liverpool', 'Watford', 303, 0.5057946411019609],\n",
    " 304: ['17/3/18', 'Stoke', 'Everton', 304, 0.5029564065563211],\n",
    " 306: ['31/3/18', 'Crystal Palace', 'Liverpool', 306, 0.501303715258143],\n",
    " 307: ['31/3/18', 'Everton', 'Man City', 307, 0.4919745918654085],\n",
    " 308: ['31/3/18', 'Man United', 'Swansea', 308, 0.5039612809512484],\n",
    " 310: ['31/3/18', 'Watford', 'Bournemouth', 310, 0.4946465603117144],\n",
    " 311: ['31/3/18', 'West Brom', 'Burnley', 311, 0.5061112897186841],\n",
    " 312: ['31/3/18', 'West Ham', 'Southampton', 312, 0.5022756141698632],\n",
    " 313: ['1/4/18', 'Arsenal', 'Stoke', 313, 0.5003661944056651],\n",
    " 314: ['1/4/18', 'Chelsea', 'Tottenham', 314, 0.5003246799953607],\n",
    " 315: ['7/4/18', 'Bournemouth', 'Crystal Palace', 315, 0.4972614240558429],\n",
    " 317: ['7/4/18', 'Everton', 'Liverpool', 317, 0.4988952344787246],\n",
    " 318: ['7/4/18', 'Leicester', 'Newcastle', 318, 0.45907041902615764],\n",
    " 319: ['7/4/18', 'Man City', 'Man United', 319, 0.5029745846374891],\n",
    " 320: ['7/4/18', 'Stoke', 'Tottenham', 320, 0.4983307276105634],\n",
    " 321: ['7/4/18', 'Watford', 'Burnley', 321, 0.4924951499793144],\n",
    " 322: ['7/4/18', 'West Brom', 'Swansea', 322, 0.5078367216128302],\n",
    " 323: ['8/4/18', 'Arsenal', 'Southampton', 323, 0.5017636816859521],\n",
    " 324: ['8/4/18', 'Chelsea', 'West Ham', 324, 0.5006189958590516],\n",
    " 325: ['14/4/18', 'Burnley', 'Leicester', 325, 0.4996862075949269],\n",
    " 328: ['14/4/18', 'Liverpool', 'Bournemouth', 328, 0.50068961623176],\n",
    " 329: ['14/4/18', 'Southampton', 'Chelsea', 329, 0.49636014551683116],\n",
    " 330: ['14/4/18', 'Swansea', 'Everton', 330, 0.5000958832735153],\n",
    " 331: ['14/4/18', 'Tottenham', 'Man City', 331, 0.49660027081116614],\n",
    " 332: ['15/4/18', 'Man United', 'West Brom', 332, 0.49587614452033346],\n",
    " 333: ['15/4/18', 'Newcastle', 'Arsenal', 333, 0.5387484283122519],\n",
    " 334: ['16/4/18', 'West Ham', 'Stoke', 334, 0.5008781268895763],\n",
    " 336: ['18/4/18', 'Bournemouth', 'Man United', 336, 0.49511591097432833],\n",
    " 337: ['19/4/18', 'Burnley', 'Chelsea', 337, 0.49662254140845835],\n",
    " 338: ['19/4/18', 'Leicester', 'Southampton', 338, 0.500079358660531],\n",
    " 339: ['21/4/18', 'Watford', 'Crystal Palace', 339, 0.49215639918564197],\n",
    " 340: ['21/4/18', 'West Brom', 'Liverpool', 340, 0.5073246690012394],\n",
    " 341: ['22/4/18', 'Arsenal', 'West Ham', 341, 0.49923965269800413],\n",
    " 342: ['22/4/18', 'Man City', 'Swansea', 342, 0.5071842804068222],\n",
    " 343: ['22/4/18', 'Stoke', 'Burnley', 343, 0.5008866765705751],\n",
    " 344: ['23/4/18', 'Everton', 'Newcastle', 344, 0.4569353114534232],\n",
    " 346: ['28/4/18', 'Crystal Palace', 'Leicester', 346, 0.5000249583885993],\n",
    " 348: ['28/4/18', 'Liverpool', 'Stoke', 348, 0.4974031145107003],\n",
    " 349: ['28/4/18', 'Newcastle', 'West Brom', 349, 0.5341384243878926],\n",
    " 350: ['28/4/18', 'Southampton', 'Bournemouth', 350, 0.501640599622688],\n",
    " 351: ['28/4/18', 'Swansea', 'Chelsea', 351, 0.4948971095143123],\n",
    " 352: ['29/4/18', 'Man United', 'Arsenal', 352, 0.5004861484446927],\n",
    " 353: ['29/4/18', 'West Ham', 'Man City', 353, 0.4963059549474752],\n",
    " 354: ['30/4/18', 'Tottenham', 'Watford', 354, 0.5095639693445279],\n",
    " 356: ['5/5/18', 'Bournemouth', 'Swansea', 356, 0.4993256067436614],\n",
    " 357: ['5/5/18', 'Everton', 'Southampton', 357, 0.4979442510877965],\n",
    " 358: ['5/5/18', 'Leicester', 'West Ham', 358, 0.49755532967258304],\n",
    " 359: ['5/5/18', 'Stoke', 'Crystal Palace', 359, 0.5005479257769027],\n",
    " 360: ['5/5/18', 'Watford', 'Newcastle', 360, 0.45174860623656826],\n",
    " 361: ['5/5/18', 'West Brom', 'Tottenham', 361, 0.5035553407586726],\n",
    " 362: ['6/5/18', 'Arsenal', 'Burnley', 362, 0.5015012857943248],\n",
    " 363: ['6/5/18', 'Chelsea', 'Liverpool', 363, 0.5040940082379276],\n",
    " 365: ['8/5/18', 'Swansea', 'Southampton', 365, 0.49828854917939647],\n",
    " 367: ['9/5/18', 'Leicester', 'Arsenal', 367, 0.49806726215649416],\n",
    " 369: ['9/5/18', 'Tottenham', 'Newcastle', 369, 0.46156099039918086],\n",
    " 370: ['10/5/18', 'West Ham', 'Man United', 370, 0.49952895440304906],\n",
    " 371: ['13/5/18', 'Man United', 'Watford', 371, 0.5094922842597033],\n",
    " 372: ['13/5/18', 'Newcastle', 'Chelsea', 372, 0.5373690851512044],\n",
    " 373: ['13/5/18', 'Southampton', 'Man City', 373, 0.49378192595952725],\n",
    " 374: ['13/5/18', 'Swansea', 'Stoke', 374, 0.49689106189910953],\n",
    " 377: ['13/5/18', 'Burnley', 'Bournemouth', 377, 0.5019029955143153],\n",
    " 378: ['13/5/18', 'Crystal Palace', 'West Brom', 378, 0.4937306314388189],\n",
    " 379: ['13/5/18', 'Tottenham', 'Leicester', 379, 0.5022421565549385]}"
   ]
  },
  {
   "cell_type": "code",
   "execution_count": null,
   "metadata": {},
   "outputs": [],
   "source": [
    "# dfA = pd.DataFrame.from_dict(dfA,orient='index')\n",
    "dfAF = pd.DataFrame.from_dict(dfA)\n",
    "dfAF2 = dfAF.T"
   ]
  },
  {
   "cell_type": "code",
   "execution_count": null,
   "metadata": {
    "collapsed": true
   },
   "outputs": [],
   "source": [
    "dfAF3 = dfAF2.reset_index(drop=True)"
   ]
  },
  {
   "cell_type": "code",
   "execution_count": null,
   "metadata": {
    "collapsed": true
   },
   "outputs": [],
   "source": [
    "ptdf8.set_index(\"Game_ID\").head()\n",
    "ptdf9 = ptdf8.reset_index(drop=True)"
   ]
  },
  {
   "cell_type": "code",
   "execution_count": null,
   "metadata": {
    "collapsed": true
   },
   "outputs": [],
   "source": [
    "ptdf9[\"AT win Predict\"] = dfAF3.loc[:, 4]"
   ]
  },
  {
   "cell_type": "code",
   "execution_count": null,
   "metadata": {},
   "outputs": [],
   "source": [
    "def win(row):\n",
    "    if (row[\"HT win Predict\"] > row[\"AT win Predict\"]):\n",
    "        return row[\"HomeTeam\"]\n",
    "    elif (row[\"AT win Predict\"] > row[\"HT win Predict\"]):\n",
    "        return row[\"AwayTeam\"]\n",
    "    elif (row[\"AT win Predict\"] == row[\"HT win Predict\"]):\n",
    "        return \"DRAW\"\n",
    "    \n",
    "\n",
    "def lose(row):\n",
    "    if (row[\"HT win Predict\"] < row[\"AT win Predict\"]):\n",
    "        return row[\"HomeTeam\"]\n",
    "    elif (row[\"AT win Predict\"] < row[\"HT win Predict\"]):\n",
    "        return row[\"AwayTeam\"]\n",
    "    elif (row[\"AT win Predict\"] == row[\"HT win Predict\"]):\n",
    "        return \"DRAW\"\n",
    "\n",
    "ptdf9[\"Winner\"] = ptdf9.apply(win, axis=1) \n",
    "ptdf9[\"Loser\"] = ptdf9.apply(lose, axis=1)"
   ]
  },
  {
   "cell_type": "code",
   "execution_count": null,
   "metadata": {
    "collapsed": true
   },
   "outputs": [],
   "source": [
    "ptdf7 = ptdf6[ptdf6.HomeTeam.str.contains(\"Newcastle\") == False]\n",
    "ptdf8 = ptdf7[ptdf7.AwayTeam.str.contains(\"Newcastle\") == False]\n",
    "ptdf9[\"Winner\"].value_counts()\n",
    "ptdf9[\"Loser\"].value_counts()"
   ]
  }
 ],
 "metadata": {
  "kernelspec": {
   "display_name": "Python 3",
   "language": "python",
   "name": "python3"
  },
  "language_info": {
   "codemirror_mode": {
    "name": "ipython",
    "version": 3
   },
   "file_extension": ".py",
   "mimetype": "text/x-python",
   "name": "python",
   "nbconvert_exporter": "python",
   "pygments_lexer": "ipython3",
   "version": "3.6.3"
  }
 },
 "nbformat": 4,
 "nbformat_minor": 2
}
